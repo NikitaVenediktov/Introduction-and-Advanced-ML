{
  "nbformat": 4,
  "nbformat_minor": 0,
  "metadata": {
    "colab": {
      "provenance": []
    },
    "kernelspec": {
      "name": "python3",
      "display_name": "Python 3"
    },
    "language_info": {
      "name": "python"
    }
  },
  "cells": [
    {
      "cell_type": "code",
      "execution_count": 1,
      "metadata": {
        "id": "45I8NutWKcgE"
      },
      "outputs": [],
      "source": [
        "import shutil\n",
        "from imutils import paths\n",
        "import pandas as pd\n",
        "import numpy as np\n",
        "import cv2\n",
        "from sklearn.metrics import f1_score\n",
        "\n",
        "from sklearn.svm import LinearSVC\n",
        "from sklearn.model_selection import train_test_split"
      ]
    },
    {
      "cell_type": "code",
      "source": [
        "filename = 'train_task.zip'\n",
        "extract_dir = ''\n",
        "shutil.unpack_archive(filename, extract_dir)\n",
        "\n",
        "filename_test = 'test_task.zip'\n",
        "extract_dir_test = ''\n",
        "shutil.unpack_archive(filename_test, extract_dir_test)"
      ],
      "metadata": {
        "id": "cQJuJ3ApKzQ7"
      },
      "execution_count": 2,
      "outputs": []
    },
    {
      "cell_type": "code",
      "source": [
        "def extract_histogram(image, bins=(8, 8, 8)):\n",
        "    image = cv2.imread(image)\n",
        "    hist = cv2.calcHist([image], [0, 1, 2], None, bins, [0, 256, 0, 256, 0, 256])\n",
        "    cv2.normalize(hist, hist)\n",
        "    return hist.flatten()"
      ],
      "metadata": {
        "id": "kuYrUxocKqYo"
      },
      "execution_count": 3,
      "outputs": []
    },
    {
      "cell_type": "code",
      "source": [
        "trainPath = 'train'\n",
        "testPath = 'test'\n",
        "\n",
        "trainImagePaths = sorted(list(paths.list_images(trainPath)))\n",
        "testImagePaths = sorted(list(paths.list_images(testPath)))"
      ],
      "metadata": {
        "id": "3GdrMN60LRUi"
      },
      "execution_count": 4,
      "outputs": []
    },
    {
      "cell_type": "code",
      "source": [
        "len(trainImagePaths)"
      ],
      "metadata": {
        "colab": {
          "base_uri": "https://localhost:8080/"
        },
        "id": "GCaOEDs0JSsR",
        "outputId": "a36e6084-b109-46f8-afe3-5b4d1014b1de"
      },
      "execution_count": 15,
      "outputs": [
        {
          "output_type": "execute_result",
          "data": {
            "text/plain": [
              "1000"
            ]
          },
          "metadata": {},
          "execution_count": 15
        }
      ]
    },
    {
      "cell_type": "code",
      "source": [
        "len(testImagePaths)"
      ],
      "metadata": {
        "colab": {
          "base_uri": "https://localhost:8080/"
        },
        "id": "9oj66AH5azP5",
        "outputId": "4fe333a1-bff4-4617-bf23-6ede275897aa"
      },
      "execution_count": 5,
      "outputs": [
        {
          "output_type": "execute_result",
          "data": {
            "text/plain": [
              "100"
            ]
          },
          "metadata": {},
          "execution_count": 5
        }
      ]
    },
    {
      "cell_type": "code",
      "source": [
        "def read_df(imagePaths):\n",
        "  df = pd.DataFrame([extract_histogram(imagePaths[0])])\n",
        "  df['type_img'] = imagePaths[0].split('/')[1]\n",
        "\n",
        "  for file in imagePaths:\n",
        "    if file == imagePaths[0]:\n",
        "      continue\n",
        "    df_str = pd.DataFrame([extract_histogram(file)])\n",
        "    df_str['type_img'] = file.split('/')[1]\n",
        "    df = df.append(df_str)\n",
        "  \n",
        "  return df"
      ],
      "metadata": {
        "id": "1XugULBwScem"
      },
      "execution_count": 44,
      "outputs": []
    },
    {
      "cell_type": "markdown",
      "source": [],
      "metadata": {
        "id": "mipLoJVAKCdX"
      }
    },
    {
      "cell_type": "code",
      "source": [
        "trainImagePaths[0].split('/')[1]"
      ],
      "metadata": {
        "colab": {
          "base_uri": "https://localhost:8080/",
          "height": 35
        },
        "id": "5pDDCeyFNwEH",
        "outputId": "c15cf80e-35f3-4e76-c743-3446adf0854d"
      },
      "execution_count": 43,
      "outputs": [
        {
          "output_type": "execute_result",
          "data": {
            "text/plain": [
              "'cat.0.jpg'"
            ],
            "application/vnd.google.colaboratory.intrinsic+json": {
              "type": "string"
            }
          },
          "metadata": {},
          "execution_count": 43
        }
      ]
    },
    {
      "cell_type": "code",
      "source": [
        "extract_histogram(trainImagePaths[1]).shape"
      ],
      "metadata": {
        "colab": {
          "base_uri": "https://localhost:8080/"
        },
        "id": "gxSSFhzIOjSU",
        "outputId": "d011d387-b34f-418d-d315-3d2a31e04f2f"
      },
      "execution_count": 35,
      "outputs": [
        {
          "output_type": "execute_result",
          "data": {
            "text/plain": [
              "(512,)"
            ]
          },
          "metadata": {},
          "execution_count": 35
        }
      ]
    },
    {
      "cell_type": "code",
      "source": [
        "len(testImagePaths)"
      ],
      "metadata": {
        "colab": {
          "base_uri": "https://localhost:8080/"
        },
        "id": "mIOYojFNOEkM",
        "outputId": "733bb4a0-e617-4dcd-8be5-db7f8e4c62bb"
      },
      "execution_count": 36,
      "outputs": [
        {
          "output_type": "execute_result",
          "data": {
            "text/plain": [
              "100"
            ]
          },
          "metadata": {},
          "execution_count": 36
        }
      ]
    },
    {
      "cell_type": "code",
      "source": [
        "train_df = read_df(trainImagePaths)\n",
        "test_df = read_df(testImagePaths)"
      ],
      "metadata": {
        "id": "aQpliMmcLUKB"
      },
      "execution_count": 45,
      "outputs": []
    },
    {
      "cell_type": "code",
      "source": [
        "train_df['type_img'].str.split('.').str.get(1)"
      ],
      "metadata": {
        "colab": {
          "base_uri": "https://localhost:8080/"
        },
        "id": "umO02aKTYqBq",
        "outputId": "96a83a74-1cf9-4ca8-dd79-79271aab402d"
      },
      "execution_count": 46,
      "outputs": [
        {
          "output_type": "execute_result",
          "data": {
            "text/plain": [
              "0      0\n",
              "0      1\n",
              "0     10\n",
              "0    100\n",
              "0    101\n",
              "    ... \n",
              "0     95\n",
              "0     96\n",
              "0     97\n",
              "0     98\n",
              "0     99\n",
              "Name: type_img, Length: 1000, dtype: object"
            ]
          },
          "metadata": {},
          "execution_count": 46
        }
      ]
    },
    {
      "cell_type": "code",
      "source": [
        "train_df['type_img_ind'] = train_df['type_img'].str.split('.').str.get(1)\n",
        "test_df['type_img_ind'] = test_df['type_img'].str.split('.').str.get(1)\n",
        "\n",
        "train_df['type_img'] = train_df['type_img'].str.split('.').str.get(0)\n",
        "test_df['type_img'] = test_df['type_img'].str.split('.').str.get(0)"
      ],
      "metadata": {
        "id": "gjkgmTlhUZUj"
      },
      "execution_count": 47,
      "outputs": []
    },
    {
      "cell_type": "code",
      "source": [
        "train_df['type_img'] = train_df['type_img'].replace({'cat' : 0, 'dog' : 1})\n",
        "test_df['type_img'] = test_df['type_img'].replace({'cat' : 0, 'dog' : 1})"
      ],
      "metadata": {
        "id": "oA8TFj-_bNri"
      },
      "execution_count": 48,
      "outputs": []
    },
    {
      "cell_type": "code",
      "source": [
        "train_df"
      ],
      "metadata": {
        "colab": {
          "base_uri": "https://localhost:8080/",
          "height": 488
        },
        "id": "TRvQpzkzNsh1",
        "outputId": "af11cbf7-0f1b-4270-c3b3-5f85f0a91c29"
      },
      "execution_count": 49,
      "outputs": [
        {
          "output_type": "execute_result",
          "data": {
            "text/plain": [
              "           0         1         2         3         4    5    6    7         8  \\\n",
              "0   0.242645  0.073122  0.000232  0.000000  0.000000  0.0  0.0  0.0  0.000000   \n",
              "0   0.418818  0.126781  0.000085  0.000000  0.000000  0.0  0.0  0.0  0.005085   \n",
              "0   0.356737  0.184168  0.020616  0.001619  0.000717  0.0  0.0  0.0  0.000041   \n",
              "0   0.001266  0.019995  0.011941  0.001583  0.000158  0.0  0.0  0.0  0.000000   \n",
              "0   0.000000  0.000105  0.000000  0.000000  0.000000  0.0  0.0  0.0  0.000000   \n",
              "..       ...       ...       ...       ...       ...  ...  ...  ...       ...   \n",
              "0   0.134753  0.010071  0.000000  0.000000  0.000000  0.0  0.0  0.0  0.004053   \n",
              "0   0.122335  0.165961  0.041414  0.016499  0.000102  0.0  0.0  0.0  0.000991   \n",
              "0   0.081336  0.033835  0.000000  0.000000  0.000000  0.0  0.0  0.0  0.000000   \n",
              "0   0.598071  0.090467  0.006297  0.000019  0.000000  0.0  0.0  0.0  0.000019   \n",
              "0   0.501765  0.108061  0.017979  0.003817  0.000026  0.0  0.0  0.0  0.004291   \n",
              "\n",
              "           9  ...  504       505     506      507       508       509  \\\n",
              "0   0.087363  ...  0.0  0.000000  0.0000  0.00000  0.000000  0.000000   \n",
              "0   0.076441  ...  0.0  0.000000  0.0000  0.00000  0.000000  0.000000   \n",
              "0   0.027440  ...  0.0  0.000000  0.0000  0.00000  0.000000  0.000000   \n",
              "0   0.002145  ...  0.0  0.000000  0.0000  0.00000  0.000000  0.000000   \n",
              "0   0.000366  ...  0.0  0.002719  0.7748  0.34338  0.038583  0.114442   \n",
              "..       ...  ...  ...       ...     ...      ...       ...       ...   \n",
              "0   0.041960  ...  0.0  0.000000  0.0000  0.00000  0.000000  0.000000   \n",
              "0   0.147656  ...  0.0  0.000000  0.0000  0.00000  0.000000  0.000000   \n",
              "0   0.006635  ...  0.0  0.000000  0.0000  0.00000  0.000000  0.000000   \n",
              "0   0.037595  ...  0.0  0.000000  0.0000  0.00000  0.000000  0.000000   \n",
              "0   0.051911  ...  0.0  0.000000  0.0000  0.00000  0.000000  0.000000   \n",
              "\n",
              "         510       511  type_img  type_img_ind  \n",
              "0   0.000000  0.000000         0             0  \n",
              "0   0.000042  0.000000         0             1  \n",
              "0   0.000000  0.007726         0            10  \n",
              "0   0.023354  0.497077         0           100  \n",
              "0   0.126833  0.008469         0           101  \n",
              "..       ...       ...       ...           ...  \n",
              "0   0.012636  0.010754         1            95  \n",
              "0   0.000000  0.000000         1            96  \n",
              "0   0.004499  0.228866         1            97  \n",
              "0   0.000000  0.010350         1            98  \n",
              "0   0.000026  0.001343         1            99  \n",
              "\n",
              "[1000 rows x 514 columns]"
            ],
            "text/html": [
              "\n",
              "  <div id=\"df-a2d9fe78-80fc-485a-91b9-6bcd33f18a4e\">\n",
              "    <div class=\"colab-df-container\">\n",
              "      <div>\n",
              "<style scoped>\n",
              "    .dataframe tbody tr th:only-of-type {\n",
              "        vertical-align: middle;\n",
              "    }\n",
              "\n",
              "    .dataframe tbody tr th {\n",
              "        vertical-align: top;\n",
              "    }\n",
              "\n",
              "    .dataframe thead th {\n",
              "        text-align: right;\n",
              "    }\n",
              "</style>\n",
              "<table border=\"1\" class=\"dataframe\">\n",
              "  <thead>\n",
              "    <tr style=\"text-align: right;\">\n",
              "      <th></th>\n",
              "      <th>0</th>\n",
              "      <th>1</th>\n",
              "      <th>2</th>\n",
              "      <th>3</th>\n",
              "      <th>4</th>\n",
              "      <th>5</th>\n",
              "      <th>6</th>\n",
              "      <th>7</th>\n",
              "      <th>8</th>\n",
              "      <th>9</th>\n",
              "      <th>...</th>\n",
              "      <th>504</th>\n",
              "      <th>505</th>\n",
              "      <th>506</th>\n",
              "      <th>507</th>\n",
              "      <th>508</th>\n",
              "      <th>509</th>\n",
              "      <th>510</th>\n",
              "      <th>511</th>\n",
              "      <th>type_img</th>\n",
              "      <th>type_img_ind</th>\n",
              "    </tr>\n",
              "  </thead>\n",
              "  <tbody>\n",
              "    <tr>\n",
              "      <th>0</th>\n",
              "      <td>0.242645</td>\n",
              "      <td>0.073122</td>\n",
              "      <td>0.000232</td>\n",
              "      <td>0.000000</td>\n",
              "      <td>0.000000</td>\n",
              "      <td>0.0</td>\n",
              "      <td>0.0</td>\n",
              "      <td>0.0</td>\n",
              "      <td>0.000000</td>\n",
              "      <td>0.087363</td>\n",
              "      <td>...</td>\n",
              "      <td>0.0</td>\n",
              "      <td>0.000000</td>\n",
              "      <td>0.0000</td>\n",
              "      <td>0.00000</td>\n",
              "      <td>0.000000</td>\n",
              "      <td>0.000000</td>\n",
              "      <td>0.000000</td>\n",
              "      <td>0.000000</td>\n",
              "      <td>0</td>\n",
              "      <td>0</td>\n",
              "    </tr>\n",
              "    <tr>\n",
              "      <th>0</th>\n",
              "      <td>0.418818</td>\n",
              "      <td>0.126781</td>\n",
              "      <td>0.000085</td>\n",
              "      <td>0.000000</td>\n",
              "      <td>0.000000</td>\n",
              "      <td>0.0</td>\n",
              "      <td>0.0</td>\n",
              "      <td>0.0</td>\n",
              "      <td>0.005085</td>\n",
              "      <td>0.076441</td>\n",
              "      <td>...</td>\n",
              "      <td>0.0</td>\n",
              "      <td>0.000000</td>\n",
              "      <td>0.0000</td>\n",
              "      <td>0.00000</td>\n",
              "      <td>0.000000</td>\n",
              "      <td>0.000000</td>\n",
              "      <td>0.000042</td>\n",
              "      <td>0.000000</td>\n",
              "      <td>0</td>\n",
              "      <td>1</td>\n",
              "    </tr>\n",
              "    <tr>\n",
              "      <th>0</th>\n",
              "      <td>0.356737</td>\n",
              "      <td>0.184168</td>\n",
              "      <td>0.020616</td>\n",
              "      <td>0.001619</td>\n",
              "      <td>0.000717</td>\n",
              "      <td>0.0</td>\n",
              "      <td>0.0</td>\n",
              "      <td>0.0</td>\n",
              "      <td>0.000041</td>\n",
              "      <td>0.027440</td>\n",
              "      <td>...</td>\n",
              "      <td>0.0</td>\n",
              "      <td>0.000000</td>\n",
              "      <td>0.0000</td>\n",
              "      <td>0.00000</td>\n",
              "      <td>0.000000</td>\n",
              "      <td>0.000000</td>\n",
              "      <td>0.000000</td>\n",
              "      <td>0.007726</td>\n",
              "      <td>0</td>\n",
              "      <td>10</td>\n",
              "    </tr>\n",
              "    <tr>\n",
              "      <th>0</th>\n",
              "      <td>0.001266</td>\n",
              "      <td>0.019995</td>\n",
              "      <td>0.011941</td>\n",
              "      <td>0.001583</td>\n",
              "      <td>0.000158</td>\n",
              "      <td>0.0</td>\n",
              "      <td>0.0</td>\n",
              "      <td>0.0</td>\n",
              "      <td>0.000000</td>\n",
              "      <td>0.002145</td>\n",
              "      <td>...</td>\n",
              "      <td>0.0</td>\n",
              "      <td>0.000000</td>\n",
              "      <td>0.0000</td>\n",
              "      <td>0.00000</td>\n",
              "      <td>0.000000</td>\n",
              "      <td>0.000000</td>\n",
              "      <td>0.023354</td>\n",
              "      <td>0.497077</td>\n",
              "      <td>0</td>\n",
              "      <td>100</td>\n",
              "    </tr>\n",
              "    <tr>\n",
              "      <th>0</th>\n",
              "      <td>0.000000</td>\n",
              "      <td>0.000105</td>\n",
              "      <td>0.000000</td>\n",
              "      <td>0.000000</td>\n",
              "      <td>0.000000</td>\n",
              "      <td>0.0</td>\n",
              "      <td>0.0</td>\n",
              "      <td>0.0</td>\n",
              "      <td>0.000000</td>\n",
              "      <td>0.000366</td>\n",
              "      <td>...</td>\n",
              "      <td>0.0</td>\n",
              "      <td>0.002719</td>\n",
              "      <td>0.7748</td>\n",
              "      <td>0.34338</td>\n",
              "      <td>0.038583</td>\n",
              "      <td>0.114442</td>\n",
              "      <td>0.126833</td>\n",
              "      <td>0.008469</td>\n",
              "      <td>0</td>\n",
              "      <td>101</td>\n",
              "    </tr>\n",
              "    <tr>\n",
              "      <th>...</th>\n",
              "      <td>...</td>\n",
              "      <td>...</td>\n",
              "      <td>...</td>\n",
              "      <td>...</td>\n",
              "      <td>...</td>\n",
              "      <td>...</td>\n",
              "      <td>...</td>\n",
              "      <td>...</td>\n",
              "      <td>...</td>\n",
              "      <td>...</td>\n",
              "      <td>...</td>\n",
              "      <td>...</td>\n",
              "      <td>...</td>\n",
              "      <td>...</td>\n",
              "      <td>...</td>\n",
              "      <td>...</td>\n",
              "      <td>...</td>\n",
              "      <td>...</td>\n",
              "      <td>...</td>\n",
              "      <td>...</td>\n",
              "      <td>...</td>\n",
              "    </tr>\n",
              "    <tr>\n",
              "      <th>0</th>\n",
              "      <td>0.134753</td>\n",
              "      <td>0.010071</td>\n",
              "      <td>0.000000</td>\n",
              "      <td>0.000000</td>\n",
              "      <td>0.000000</td>\n",
              "      <td>0.0</td>\n",
              "      <td>0.0</td>\n",
              "      <td>0.0</td>\n",
              "      <td>0.004053</td>\n",
              "      <td>0.041960</td>\n",
              "      <td>...</td>\n",
              "      <td>0.0</td>\n",
              "      <td>0.000000</td>\n",
              "      <td>0.0000</td>\n",
              "      <td>0.00000</td>\n",
              "      <td>0.000000</td>\n",
              "      <td>0.000000</td>\n",
              "      <td>0.012636</td>\n",
              "      <td>0.010754</td>\n",
              "      <td>1</td>\n",
              "      <td>95</td>\n",
              "    </tr>\n",
              "    <tr>\n",
              "      <th>0</th>\n",
              "      <td>0.122335</td>\n",
              "      <td>0.165961</td>\n",
              "      <td>0.041414</td>\n",
              "      <td>0.016499</td>\n",
              "      <td>0.000102</td>\n",
              "      <td>0.0</td>\n",
              "      <td>0.0</td>\n",
              "      <td>0.0</td>\n",
              "      <td>0.000991</td>\n",
              "      <td>0.147656</td>\n",
              "      <td>...</td>\n",
              "      <td>0.0</td>\n",
              "      <td>0.000000</td>\n",
              "      <td>0.0000</td>\n",
              "      <td>0.00000</td>\n",
              "      <td>0.000000</td>\n",
              "      <td>0.000000</td>\n",
              "      <td>0.000000</td>\n",
              "      <td>0.000000</td>\n",
              "      <td>1</td>\n",
              "      <td>96</td>\n",
              "    </tr>\n",
              "    <tr>\n",
              "      <th>0</th>\n",
              "      <td>0.081336</td>\n",
              "      <td>0.033835</td>\n",
              "      <td>0.000000</td>\n",
              "      <td>0.000000</td>\n",
              "      <td>0.000000</td>\n",
              "      <td>0.0</td>\n",
              "      <td>0.0</td>\n",
              "      <td>0.0</td>\n",
              "      <td>0.000000</td>\n",
              "      <td>0.006635</td>\n",
              "      <td>...</td>\n",
              "      <td>0.0</td>\n",
              "      <td>0.000000</td>\n",
              "      <td>0.0000</td>\n",
              "      <td>0.00000</td>\n",
              "      <td>0.000000</td>\n",
              "      <td>0.000000</td>\n",
              "      <td>0.004499</td>\n",
              "      <td>0.228866</td>\n",
              "      <td>1</td>\n",
              "      <td>97</td>\n",
              "    </tr>\n",
              "    <tr>\n",
              "      <th>0</th>\n",
              "      <td>0.598071</td>\n",
              "      <td>0.090467</td>\n",
              "      <td>0.006297</td>\n",
              "      <td>0.000019</td>\n",
              "      <td>0.000000</td>\n",
              "      <td>0.0</td>\n",
              "      <td>0.0</td>\n",
              "      <td>0.0</td>\n",
              "      <td>0.000019</td>\n",
              "      <td>0.037595</td>\n",
              "      <td>...</td>\n",
              "      <td>0.0</td>\n",
              "      <td>0.000000</td>\n",
              "      <td>0.0000</td>\n",
              "      <td>0.00000</td>\n",
              "      <td>0.000000</td>\n",
              "      <td>0.000000</td>\n",
              "      <td>0.000000</td>\n",
              "      <td>0.010350</td>\n",
              "      <td>1</td>\n",
              "      <td>98</td>\n",
              "    </tr>\n",
              "    <tr>\n",
              "      <th>0</th>\n",
              "      <td>0.501765</td>\n",
              "      <td>0.108061</td>\n",
              "      <td>0.017979</td>\n",
              "      <td>0.003817</td>\n",
              "      <td>0.000026</td>\n",
              "      <td>0.0</td>\n",
              "      <td>0.0</td>\n",
              "      <td>0.0</td>\n",
              "      <td>0.004291</td>\n",
              "      <td>0.051911</td>\n",
              "      <td>...</td>\n",
              "      <td>0.0</td>\n",
              "      <td>0.000000</td>\n",
              "      <td>0.0000</td>\n",
              "      <td>0.00000</td>\n",
              "      <td>0.000000</td>\n",
              "      <td>0.000000</td>\n",
              "      <td>0.000026</td>\n",
              "      <td>0.001343</td>\n",
              "      <td>1</td>\n",
              "      <td>99</td>\n",
              "    </tr>\n",
              "  </tbody>\n",
              "</table>\n",
              "<p>1000 rows × 514 columns</p>\n",
              "</div>\n",
              "      <button class=\"colab-df-convert\" onclick=\"convertToInteractive('df-a2d9fe78-80fc-485a-91b9-6bcd33f18a4e')\"\n",
              "              title=\"Convert this dataframe to an interactive table.\"\n",
              "              style=\"display:none;\">\n",
              "        \n",
              "  <svg xmlns=\"http://www.w3.org/2000/svg\" height=\"24px\"viewBox=\"0 0 24 24\"\n",
              "       width=\"24px\">\n",
              "    <path d=\"M0 0h24v24H0V0z\" fill=\"none\"/>\n",
              "    <path d=\"M18.56 5.44l.94 2.06.94-2.06 2.06-.94-2.06-.94-.94-2.06-.94 2.06-2.06.94zm-11 1L8.5 8.5l.94-2.06 2.06-.94-2.06-.94L8.5 2.5l-.94 2.06-2.06.94zm10 10l.94 2.06.94-2.06 2.06-.94-2.06-.94-.94-2.06-.94 2.06-2.06.94z\"/><path d=\"M17.41 7.96l-1.37-1.37c-.4-.4-.92-.59-1.43-.59-.52 0-1.04.2-1.43.59L10.3 9.45l-7.72 7.72c-.78.78-.78 2.05 0 2.83L4 21.41c.39.39.9.59 1.41.59.51 0 1.02-.2 1.41-.59l7.78-7.78 2.81-2.81c.8-.78.8-2.07 0-2.86zM5.41 20L4 18.59l7.72-7.72 1.47 1.35L5.41 20z\"/>\n",
              "  </svg>\n",
              "      </button>\n",
              "      \n",
              "  <style>\n",
              "    .colab-df-container {\n",
              "      display:flex;\n",
              "      flex-wrap:wrap;\n",
              "      gap: 12px;\n",
              "    }\n",
              "\n",
              "    .colab-df-convert {\n",
              "      background-color: #E8F0FE;\n",
              "      border: none;\n",
              "      border-radius: 50%;\n",
              "      cursor: pointer;\n",
              "      display: none;\n",
              "      fill: #1967D2;\n",
              "      height: 32px;\n",
              "      padding: 0 0 0 0;\n",
              "      width: 32px;\n",
              "    }\n",
              "\n",
              "    .colab-df-convert:hover {\n",
              "      background-color: #E2EBFA;\n",
              "      box-shadow: 0px 1px 2px rgba(60, 64, 67, 0.3), 0px 1px 3px 1px rgba(60, 64, 67, 0.15);\n",
              "      fill: #174EA6;\n",
              "    }\n",
              "\n",
              "    [theme=dark] .colab-df-convert {\n",
              "      background-color: #3B4455;\n",
              "      fill: #D2E3FC;\n",
              "    }\n",
              "\n",
              "    [theme=dark] .colab-df-convert:hover {\n",
              "      background-color: #434B5C;\n",
              "      box-shadow: 0px 1px 3px 1px rgba(0, 0, 0, 0.15);\n",
              "      filter: drop-shadow(0px 1px 2px rgba(0, 0, 0, 0.3));\n",
              "      fill: #FFFFFF;\n",
              "    }\n",
              "  </style>\n",
              "\n",
              "      <script>\n",
              "        const buttonEl =\n",
              "          document.querySelector('#df-a2d9fe78-80fc-485a-91b9-6bcd33f18a4e button.colab-df-convert');\n",
              "        buttonEl.style.display =\n",
              "          google.colab.kernel.accessAllowed ? 'block' : 'none';\n",
              "\n",
              "        async function convertToInteractive(key) {\n",
              "          const element = document.querySelector('#df-a2d9fe78-80fc-485a-91b9-6bcd33f18a4e');\n",
              "          const dataTable =\n",
              "            await google.colab.kernel.invokeFunction('convertToInteractive',\n",
              "                                                     [key], {});\n",
              "          if (!dataTable) return;\n",
              "\n",
              "          const docLinkHtml = 'Like what you see? Visit the ' +\n",
              "            '<a target=\"_blank\" href=https://colab.research.google.com/notebooks/data_table.ipynb>data table notebook</a>'\n",
              "            + ' to learn more about interactive tables.';\n",
              "          element.innerHTML = '';\n",
              "          dataTable['output_type'] = 'display_data';\n",
              "          await google.colab.output.renderOutput(dataTable, element);\n",
              "          const docLink = document.createElement('div');\n",
              "          docLink.innerHTML = docLinkHtml;\n",
              "          element.appendChild(docLink);\n",
              "        }\n",
              "      </script>\n",
              "    </div>\n",
              "  </div>\n",
              "  "
            ]
          },
          "metadata": {},
          "execution_count": 49
        }
      ]
    },
    {
      "cell_type": "code",
      "source": [
        "X_train, X_test, y_train, y_test = train_test_split(train_df.drop(columns=['type_img']), \n",
        "                                                    train_df['type_img'], test_size=0.25, random_state=4)"
      ],
      "metadata": {
        "id": "lHl-z-AJYHUc"
      },
      "execution_count": 60,
      "outputs": []
    },
    {
      "cell_type": "code",
      "source": [
        "model = LinearSVC(C=1.47, random_state=4)\n",
        "model.fit(X_train.drop(columns=['type_img_ind']), y_train)"
      ],
      "metadata": {
        "colab": {
          "base_uri": "https://localhost:8080/"
        },
        "id": "gMv0pecmYHWk",
        "outputId": "ac409d33-e89a-42ab-a71e-fecba9a2ef9a"
      },
      "execution_count": 61,
      "outputs": [
        {
          "output_type": "execute_result",
          "data": {
            "text/plain": [
              "LinearSVC(C=1.47, random_state=4)"
            ]
          },
          "metadata": {},
          "execution_count": 61
        }
      ]
    },
    {
      "cell_type": "code",
      "source": [
        "print(model.coef_[0][152], \n",
        "      model.coef_[0][66], \n",
        "      model.coef_[0][123]\n",
        "        )"
      ],
      "metadata": {
        "colab": {
          "base_uri": "https://localhost:8080/"
        },
        "id": "Nb_dAcWpYHYm",
        "outputId": "7ca8792f-aa6f-4836-bd5b-41dd697c9478"
      },
      "execution_count": 65,
      "outputs": [
        {
          "output_type": "stream",
          "name": "stdout",
          "text": [
            "-0.03901284589178978 -1.0325092019410111 3.1052456830668075e-05\n"
          ]
        }
      ]
    },
    {
      "cell_type": "code",
      "source": [
        "round(3.1052456830668075e-05 , 3)"
      ],
      "metadata": {
        "colab": {
          "base_uri": "https://localhost:8080/"
        },
        "id": "TJLXR3tqPhx0",
        "outputId": "f360fa91-038a-44f3-f5c7-3176a54692f4"
      },
      "execution_count": 67,
      "outputs": [
        {
          "output_type": "execute_result",
          "data": {
            "text/plain": [
              "0.0"
            ]
          },
          "metadata": {},
          "execution_count": 67
        }
      ]
    },
    {
      "cell_type": "code",
      "source": [
        "3.1052456830668075e-05"
      ],
      "metadata": {
        "colab": {
          "base_uri": "https://localhost:8080/"
        },
        "id": "cyuw7OQTNt4r",
        "outputId": "c1d3b632-1a9a-46c1-e721-cee39189a159"
      },
      "execution_count": 66,
      "outputs": [
        {
          "output_type": "execute_result",
          "data": {
            "text/plain": [
              "3.1052456830668075e-05"
            ]
          },
          "metadata": {},
          "execution_count": 66
        }
      ]
    },
    {
      "cell_type": "code",
      "source": [
        "y_pred = model.predict(X_test.drop(columns=['type_img_ind']))\n",
        "# y_pred = model.predict(X_train.drop(columns=['type_img_ind']))"
      ],
      "metadata": {
        "id": "N5LpSrJ0XvsI"
      },
      "execution_count": 63,
      "outputs": []
    },
    {
      "cell_type": "code",
      "source": [
        "f1_score(y_test, y_pred, average='macro')"
      ],
      "metadata": {
        "id": "Xdz1k1zPexqU",
        "colab": {
          "base_uri": "https://localhost:8080/"
        },
        "outputId": "d916cdb5-8f38-419d-90cb-8a5fc019642a"
      },
      "execution_count": 64,
      "outputs": [
        {
          "output_type": "execute_result",
          "data": {
            "text/plain": [
              "0.5616883116883117"
            ]
          },
          "metadata": {},
          "execution_count": 64
        }
      ]
    },
    {
      "cell_type": "code",
      "source": [
        "print(model.predict(test_df[(test_df['type_img_ind'] == '1020') & (test_df['type_img'] == 1)].drop(columns=['type_img', 'type_img_ind'])), \n",
        "      model.predict(test_df[(test_df['type_img_ind'] == '1010') & (test_df['type_img'] == 1)].drop(columns=['type_img', 'type_img_ind'])), \n",
        "      model.predict(test_df[(test_df['type_img_ind'] == '1046') & (test_df['type_img'] == 0)].drop(columns=['type_img', 'type_img_ind'])), \n",
        "      model.predict(test_df[(test_df['type_img_ind'] == '1013') & (test_df['type_img'] == 0)].drop(columns=['type_img', 'type_img_ind'])), \n",
        "      )"
      ],
      "metadata": {
        "colab": {
          "base_uri": "https://localhost:8080/"
        },
        "id": "MmWiT5GAX_hg",
        "outputId": "32b47f5d-88cb-4e6d-87be-a9d6e91f35a3"
      },
      "execution_count": 59,
      "outputs": [
        {
          "output_type": "stream",
          "name": "stdout",
          "text": [
            "[0] [0] [1] [0]\n"
          ]
        }
      ]
    },
    {
      "cell_type": "code",
      "source": [
        "test_df"
      ],
      "metadata": {
        "colab": {
          "base_uri": "https://localhost:8080/",
          "height": 424
        },
        "id": "bLhPBhfxZkkR",
        "outputId": "000e9b2c-6922-4e38-f181-b4c2193ea31b"
      },
      "execution_count": null,
      "outputs": [
        {
          "output_type": "execute_result",
          "data": {
            "text/plain": [
              "           0         1         2         3    4    5    6    7         8  \\\n",
              "0   0.567117  0.194313  0.009939  0.000406  0.0  0.0  0.0  0.0  0.001014   \n",
              "0   0.013429  0.020131  0.021416  0.000176  0.0  0.0  0.0  0.0  0.012976   \n",
              "0   0.305423  0.080943  0.000000  0.000000  0.0  0.0  0.0  0.0  0.003492   \n",
              "0   0.399897  0.002392  0.000000  0.000000  0.0  0.0  0.0  0.0  0.110738   \n",
              "0   0.693011  0.144219  0.003652  0.000306  0.0  0.0  0.0  0.0  0.002686   \n",
              "..       ...       ...       ...       ...  ...  ...  ...  ...       ...   \n",
              "0   0.042874  0.013570  0.000000  0.000000  0.0  0.0  0.0  0.0  0.072613   \n",
              "0   0.092043  0.000226  0.000000  0.000000  0.0  0.0  0.0  0.0  0.010420   \n",
              "0   0.496956  0.048788  0.000411  0.000000  0.0  0.0  0.0  0.0  0.081550   \n",
              "0   0.140861  0.069838  0.000000  0.000000  0.0  0.0  0.0  0.0  0.004180   \n",
              "0   0.088446  0.006654  0.000262  0.000000  0.0  0.0  0.0  0.0  0.010803   \n",
              "\n",
              "           9  ...  504  505  506  507       508       509       510       511  \\\n",
              "0   0.261450  ...  0.0  0.0  0.0  0.0  0.000000  0.000000  0.154963  0.218247   \n",
              "0   0.030814  ...  0.0  0.0  0.0  0.0  0.000000  0.000000  0.000025  0.000000   \n",
              "0   0.090926  ...  0.0  0.0  0.0  0.0  0.000000  0.000000  0.000258  0.024489   \n",
              "0   0.052461  ...  0.0  0.0  0.0  0.0  0.000000  0.000000  0.010275  0.214028   \n",
              "0   0.131873  ...  0.0  0.0  0.0  0.0  0.000000  0.000000  0.000024  0.024763   \n",
              "..       ...  ...  ...  ...  ...  ...       ...       ...       ...       ...   \n",
              "0   0.139533  ...  0.0  0.0  0.0  0.0  0.000000  0.000000  0.017280  0.182288   \n",
              "0   0.009717  ...  0.0  0.0  0.0  0.0  0.000000  0.000000  0.000000  0.000000   \n",
              "0   0.128507  ...  0.0  0.0  0.0  0.0  0.000037  0.000112  0.003026  0.016848   \n",
              "0   0.080936  ...  0.0  0.0  0.0  0.0  0.000000  0.000000  0.020902  0.597341   \n",
              "0   0.027962  ...  0.0  0.0  0.0  0.0  0.000000  0.000000  0.000000  0.000000   \n",
              "\n",
              "    type_img  type_img_ind  \n",
              "0          0          1000  \n",
              "0          0          1001  \n",
              "0          0          1002  \n",
              "0          0          1003  \n",
              "0          0          1004  \n",
              "..       ...           ...  \n",
              "0          1          1045  \n",
              "0          1          1046  \n",
              "0          1          1047  \n",
              "0          1          1048  \n",
              "0          1          1049  \n",
              "\n",
              "[100 rows x 514 columns]"
            ],
            "text/html": [
              "\n",
              "  <div id=\"df-2cbba127-8e76-4b67-ad50-bc4378c53305\">\n",
              "    <div class=\"colab-df-container\">\n",
              "      <div>\n",
              "<style scoped>\n",
              "    .dataframe tbody tr th:only-of-type {\n",
              "        vertical-align: middle;\n",
              "    }\n",
              "\n",
              "    .dataframe tbody tr th {\n",
              "        vertical-align: top;\n",
              "    }\n",
              "\n",
              "    .dataframe thead th {\n",
              "        text-align: right;\n",
              "    }\n",
              "</style>\n",
              "<table border=\"1\" class=\"dataframe\">\n",
              "  <thead>\n",
              "    <tr style=\"text-align: right;\">\n",
              "      <th></th>\n",
              "      <th>0</th>\n",
              "      <th>1</th>\n",
              "      <th>2</th>\n",
              "      <th>3</th>\n",
              "      <th>4</th>\n",
              "      <th>5</th>\n",
              "      <th>6</th>\n",
              "      <th>7</th>\n",
              "      <th>8</th>\n",
              "      <th>9</th>\n",
              "      <th>...</th>\n",
              "      <th>504</th>\n",
              "      <th>505</th>\n",
              "      <th>506</th>\n",
              "      <th>507</th>\n",
              "      <th>508</th>\n",
              "      <th>509</th>\n",
              "      <th>510</th>\n",
              "      <th>511</th>\n",
              "      <th>type_img</th>\n",
              "      <th>type_img_ind</th>\n",
              "    </tr>\n",
              "  </thead>\n",
              "  <tbody>\n",
              "    <tr>\n",
              "      <th>0</th>\n",
              "      <td>0.567117</td>\n",
              "      <td>0.194313</td>\n",
              "      <td>0.009939</td>\n",
              "      <td>0.000406</td>\n",
              "      <td>0.0</td>\n",
              "      <td>0.0</td>\n",
              "      <td>0.0</td>\n",
              "      <td>0.0</td>\n",
              "      <td>0.001014</td>\n",
              "      <td>0.261450</td>\n",
              "      <td>...</td>\n",
              "      <td>0.0</td>\n",
              "      <td>0.0</td>\n",
              "      <td>0.0</td>\n",
              "      <td>0.0</td>\n",
              "      <td>0.000000</td>\n",
              "      <td>0.000000</td>\n",
              "      <td>0.154963</td>\n",
              "      <td>0.218247</td>\n",
              "      <td>0</td>\n",
              "      <td>1000</td>\n",
              "    </tr>\n",
              "    <tr>\n",
              "      <th>0</th>\n",
              "      <td>0.013429</td>\n",
              "      <td>0.020131</td>\n",
              "      <td>0.021416</td>\n",
              "      <td>0.000176</td>\n",
              "      <td>0.0</td>\n",
              "      <td>0.0</td>\n",
              "      <td>0.0</td>\n",
              "      <td>0.0</td>\n",
              "      <td>0.012976</td>\n",
              "      <td>0.030814</td>\n",
              "      <td>...</td>\n",
              "      <td>0.0</td>\n",
              "      <td>0.0</td>\n",
              "      <td>0.0</td>\n",
              "      <td>0.0</td>\n",
              "      <td>0.000000</td>\n",
              "      <td>0.000000</td>\n",
              "      <td>0.000025</td>\n",
              "      <td>0.000000</td>\n",
              "      <td>0</td>\n",
              "      <td>1001</td>\n",
              "    </tr>\n",
              "    <tr>\n",
              "      <th>0</th>\n",
              "      <td>0.305423</td>\n",
              "      <td>0.080943</td>\n",
              "      <td>0.000000</td>\n",
              "      <td>0.000000</td>\n",
              "      <td>0.0</td>\n",
              "      <td>0.0</td>\n",
              "      <td>0.0</td>\n",
              "      <td>0.0</td>\n",
              "      <td>0.003492</td>\n",
              "      <td>0.090926</td>\n",
              "      <td>...</td>\n",
              "      <td>0.0</td>\n",
              "      <td>0.0</td>\n",
              "      <td>0.0</td>\n",
              "      <td>0.0</td>\n",
              "      <td>0.000000</td>\n",
              "      <td>0.000000</td>\n",
              "      <td>0.000258</td>\n",
              "      <td>0.024489</td>\n",
              "      <td>0</td>\n",
              "      <td>1002</td>\n",
              "    </tr>\n",
              "    <tr>\n",
              "      <th>0</th>\n",
              "      <td>0.399897</td>\n",
              "      <td>0.002392</td>\n",
              "      <td>0.000000</td>\n",
              "      <td>0.000000</td>\n",
              "      <td>0.0</td>\n",
              "      <td>0.0</td>\n",
              "      <td>0.0</td>\n",
              "      <td>0.0</td>\n",
              "      <td>0.110738</td>\n",
              "      <td>0.052461</td>\n",
              "      <td>...</td>\n",
              "      <td>0.0</td>\n",
              "      <td>0.0</td>\n",
              "      <td>0.0</td>\n",
              "      <td>0.0</td>\n",
              "      <td>0.000000</td>\n",
              "      <td>0.000000</td>\n",
              "      <td>0.010275</td>\n",
              "      <td>0.214028</td>\n",
              "      <td>0</td>\n",
              "      <td>1003</td>\n",
              "    </tr>\n",
              "    <tr>\n",
              "      <th>0</th>\n",
              "      <td>0.693011</td>\n",
              "      <td>0.144219</td>\n",
              "      <td>0.003652</td>\n",
              "      <td>0.000306</td>\n",
              "      <td>0.0</td>\n",
              "      <td>0.0</td>\n",
              "      <td>0.0</td>\n",
              "      <td>0.0</td>\n",
              "      <td>0.002686</td>\n",
              "      <td>0.131873</td>\n",
              "      <td>...</td>\n",
              "      <td>0.0</td>\n",
              "      <td>0.0</td>\n",
              "      <td>0.0</td>\n",
              "      <td>0.0</td>\n",
              "      <td>0.000000</td>\n",
              "      <td>0.000000</td>\n",
              "      <td>0.000024</td>\n",
              "      <td>0.024763</td>\n",
              "      <td>0</td>\n",
              "      <td>1004</td>\n",
              "    </tr>\n",
              "    <tr>\n",
              "      <th>...</th>\n",
              "      <td>...</td>\n",
              "      <td>...</td>\n",
              "      <td>...</td>\n",
              "      <td>...</td>\n",
              "      <td>...</td>\n",
              "      <td>...</td>\n",
              "      <td>...</td>\n",
              "      <td>...</td>\n",
              "      <td>...</td>\n",
              "      <td>...</td>\n",
              "      <td>...</td>\n",
              "      <td>...</td>\n",
              "      <td>...</td>\n",
              "      <td>...</td>\n",
              "      <td>...</td>\n",
              "      <td>...</td>\n",
              "      <td>...</td>\n",
              "      <td>...</td>\n",
              "      <td>...</td>\n",
              "      <td>...</td>\n",
              "      <td>...</td>\n",
              "    </tr>\n",
              "    <tr>\n",
              "      <th>0</th>\n",
              "      <td>0.042874</td>\n",
              "      <td>0.013570</td>\n",
              "      <td>0.000000</td>\n",
              "      <td>0.000000</td>\n",
              "      <td>0.0</td>\n",
              "      <td>0.0</td>\n",
              "      <td>0.0</td>\n",
              "      <td>0.0</td>\n",
              "      <td>0.072613</td>\n",
              "      <td>0.139533</td>\n",
              "      <td>...</td>\n",
              "      <td>0.0</td>\n",
              "      <td>0.0</td>\n",
              "      <td>0.0</td>\n",
              "      <td>0.0</td>\n",
              "      <td>0.000000</td>\n",
              "      <td>0.000000</td>\n",
              "      <td>0.017280</td>\n",
              "      <td>0.182288</td>\n",
              "      <td>1</td>\n",
              "      <td>1045</td>\n",
              "    </tr>\n",
              "    <tr>\n",
              "      <th>0</th>\n",
              "      <td>0.092043</td>\n",
              "      <td>0.000226</td>\n",
              "      <td>0.000000</td>\n",
              "      <td>0.000000</td>\n",
              "      <td>0.0</td>\n",
              "      <td>0.0</td>\n",
              "      <td>0.0</td>\n",
              "      <td>0.0</td>\n",
              "      <td>0.010420</td>\n",
              "      <td>0.009717</td>\n",
              "      <td>...</td>\n",
              "      <td>0.0</td>\n",
              "      <td>0.0</td>\n",
              "      <td>0.0</td>\n",
              "      <td>0.0</td>\n",
              "      <td>0.000000</td>\n",
              "      <td>0.000000</td>\n",
              "      <td>0.000000</td>\n",
              "      <td>0.000000</td>\n",
              "      <td>1</td>\n",
              "      <td>1046</td>\n",
              "    </tr>\n",
              "    <tr>\n",
              "      <th>0</th>\n",
              "      <td>0.496956</td>\n",
              "      <td>0.048788</td>\n",
              "      <td>0.000411</td>\n",
              "      <td>0.000000</td>\n",
              "      <td>0.0</td>\n",
              "      <td>0.0</td>\n",
              "      <td>0.0</td>\n",
              "      <td>0.0</td>\n",
              "      <td>0.081550</td>\n",
              "      <td>0.128507</td>\n",
              "      <td>...</td>\n",
              "      <td>0.0</td>\n",
              "      <td>0.0</td>\n",
              "      <td>0.0</td>\n",
              "      <td>0.0</td>\n",
              "      <td>0.000037</td>\n",
              "      <td>0.000112</td>\n",
              "      <td>0.003026</td>\n",
              "      <td>0.016848</td>\n",
              "      <td>1</td>\n",
              "      <td>1047</td>\n",
              "    </tr>\n",
              "    <tr>\n",
              "      <th>0</th>\n",
              "      <td>0.140861</td>\n",
              "      <td>0.069838</td>\n",
              "      <td>0.000000</td>\n",
              "      <td>0.000000</td>\n",
              "      <td>0.0</td>\n",
              "      <td>0.0</td>\n",
              "      <td>0.0</td>\n",
              "      <td>0.0</td>\n",
              "      <td>0.004180</td>\n",
              "      <td>0.080936</td>\n",
              "      <td>...</td>\n",
              "      <td>0.0</td>\n",
              "      <td>0.0</td>\n",
              "      <td>0.0</td>\n",
              "      <td>0.0</td>\n",
              "      <td>0.000000</td>\n",
              "      <td>0.000000</td>\n",
              "      <td>0.020902</td>\n",
              "      <td>0.597341</td>\n",
              "      <td>1</td>\n",
              "      <td>1048</td>\n",
              "    </tr>\n",
              "    <tr>\n",
              "      <th>0</th>\n",
              "      <td>0.088446</td>\n",
              "      <td>0.006654</td>\n",
              "      <td>0.000262</td>\n",
              "      <td>0.000000</td>\n",
              "      <td>0.0</td>\n",
              "      <td>0.0</td>\n",
              "      <td>0.0</td>\n",
              "      <td>0.0</td>\n",
              "      <td>0.010803</td>\n",
              "      <td>0.027962</td>\n",
              "      <td>...</td>\n",
              "      <td>0.0</td>\n",
              "      <td>0.0</td>\n",
              "      <td>0.0</td>\n",
              "      <td>0.0</td>\n",
              "      <td>0.000000</td>\n",
              "      <td>0.000000</td>\n",
              "      <td>0.000000</td>\n",
              "      <td>0.000000</td>\n",
              "      <td>1</td>\n",
              "      <td>1049</td>\n",
              "    </tr>\n",
              "  </tbody>\n",
              "</table>\n",
              "<p>100 rows × 514 columns</p>\n",
              "</div>\n",
              "      <button class=\"colab-df-convert\" onclick=\"convertToInteractive('df-2cbba127-8e76-4b67-ad50-bc4378c53305')\"\n",
              "              title=\"Convert this dataframe to an interactive table.\"\n",
              "              style=\"display:none;\">\n",
              "        \n",
              "  <svg xmlns=\"http://www.w3.org/2000/svg\" height=\"24px\"viewBox=\"0 0 24 24\"\n",
              "       width=\"24px\">\n",
              "    <path d=\"M0 0h24v24H0V0z\" fill=\"none\"/>\n",
              "    <path d=\"M18.56 5.44l.94 2.06.94-2.06 2.06-.94-2.06-.94-.94-2.06-.94 2.06-2.06.94zm-11 1L8.5 8.5l.94-2.06 2.06-.94-2.06-.94L8.5 2.5l-.94 2.06-2.06.94zm10 10l.94 2.06.94-2.06 2.06-.94-2.06-.94-.94-2.06-.94 2.06-2.06.94z\"/><path d=\"M17.41 7.96l-1.37-1.37c-.4-.4-.92-.59-1.43-.59-.52 0-1.04.2-1.43.59L10.3 9.45l-7.72 7.72c-.78.78-.78 2.05 0 2.83L4 21.41c.39.39.9.59 1.41.59.51 0 1.02-.2 1.41-.59l7.78-7.78 2.81-2.81c.8-.78.8-2.07 0-2.86zM5.41 20L4 18.59l7.72-7.72 1.47 1.35L5.41 20z\"/>\n",
              "  </svg>\n",
              "      </button>\n",
              "      \n",
              "  <style>\n",
              "    .colab-df-container {\n",
              "      display:flex;\n",
              "      flex-wrap:wrap;\n",
              "      gap: 12px;\n",
              "    }\n",
              "\n",
              "    .colab-df-convert {\n",
              "      background-color: #E8F0FE;\n",
              "      border: none;\n",
              "      border-radius: 50%;\n",
              "      cursor: pointer;\n",
              "      display: none;\n",
              "      fill: #1967D2;\n",
              "      height: 32px;\n",
              "      padding: 0 0 0 0;\n",
              "      width: 32px;\n",
              "    }\n",
              "\n",
              "    .colab-df-convert:hover {\n",
              "      background-color: #E2EBFA;\n",
              "      box-shadow: 0px 1px 2px rgba(60, 64, 67, 0.3), 0px 1px 3px 1px rgba(60, 64, 67, 0.15);\n",
              "      fill: #174EA6;\n",
              "    }\n",
              "\n",
              "    [theme=dark] .colab-df-convert {\n",
              "      background-color: #3B4455;\n",
              "      fill: #D2E3FC;\n",
              "    }\n",
              "\n",
              "    [theme=dark] .colab-df-convert:hover {\n",
              "      background-color: #434B5C;\n",
              "      box-shadow: 0px 1px 3px 1px rgba(0, 0, 0, 0.15);\n",
              "      filter: drop-shadow(0px 1px 2px rgba(0, 0, 0, 0.3));\n",
              "      fill: #FFFFFF;\n",
              "    }\n",
              "  </style>\n",
              "\n",
              "      <script>\n",
              "        const buttonEl =\n",
              "          document.querySelector('#df-2cbba127-8e76-4b67-ad50-bc4378c53305 button.colab-df-convert');\n",
              "        buttonEl.style.display =\n",
              "          google.colab.kernel.accessAllowed ? 'block' : 'none';\n",
              "\n",
              "        async function convertToInteractive(key) {\n",
              "          const element = document.querySelector('#df-2cbba127-8e76-4b67-ad50-bc4378c53305');\n",
              "          const dataTable =\n",
              "            await google.colab.kernel.invokeFunction('convertToInteractive',\n",
              "                                                     [key], {});\n",
              "          if (!dataTable) return;\n",
              "\n",
              "          const docLinkHtml = 'Like what you see? Visit the ' +\n",
              "            '<a target=\"_blank\" href=https://colab.research.google.com/notebooks/data_table.ipynb>data table notebook</a>'\n",
              "            + ' to learn more about interactive tables.';\n",
              "          element.innerHTML = '';\n",
              "          dataTable['output_type'] = 'display_data';\n",
              "          await google.colab.output.renderOutput(dataTable, element);\n",
              "          const docLink = document.createElement('div');\n",
              "          docLink.innerHTML = docLinkHtml;\n",
              "          element.appendChild(docLink);\n",
              "        }\n",
              "      </script>\n",
              "    </div>\n",
              "  </div>\n",
              "  "
            ]
          },
          "metadata": {},
          "execution_count": 146
        }
      ]
    },
    {
      "cell_type": "code",
      "source": [
        "test_df['type_img_ind'].value_counts()"
      ],
      "metadata": {
        "colab": {
          "base_uri": "https://localhost:8080/"
        },
        "id": "EOafQIEiZSV5",
        "outputId": "1f54e235-3eea-48d4-a76e-8de4d94accdd"
      },
      "execution_count": null,
      "outputs": [
        {
          "output_type": "execute_result",
          "data": {
            "text/plain": [
              "1000    2\n",
              "1037    2\n",
              "1027    2\n",
              "1028    2\n",
              "1029    2\n",
              "1030    2\n",
              "1031    2\n",
              "1032    2\n",
              "1033    2\n",
              "1034    2\n",
              "1035    2\n",
              "1036    2\n",
              "1038    2\n",
              "1001    2\n",
              "1039    2\n",
              "1040    2\n",
              "1041    2\n",
              "1042    2\n",
              "1043    2\n",
              "1044    2\n",
              "1045    2\n",
              "1046    2\n",
              "1047    2\n",
              "1048    2\n",
              "1026    2\n",
              "1025    2\n",
              "1024    2\n",
              "1023    2\n",
              "1002    2\n",
              "1003    2\n",
              "1004    2\n",
              "1005    2\n",
              "1006    2\n",
              "1007    2\n",
              "1008    2\n",
              "1009    2\n",
              "1010    2\n",
              "1011    2\n",
              "1012    2\n",
              "1013    2\n",
              "1014    2\n",
              "1015    2\n",
              "1016    2\n",
              "1017    2\n",
              "1018    2\n",
              "1019    2\n",
              "1020    2\n",
              "1021    2\n",
              "1022    2\n",
              "1049    2\n",
              "Name: type_img_ind, dtype: int64"
            ]
          },
          "metadata": {},
          "execution_count": 147
        }
      ]
    },
    {
      "cell_type": "code",
      "source": [],
      "metadata": {
        "id": "7WGvmbXqZn6j"
      },
      "execution_count": null,
      "outputs": []
    }
  ]
}