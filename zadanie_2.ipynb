{
 "cells": [
  {
   "cell_type": "code",
   "execution_count": null,
   "metadata": {},
   "outputs": [
    {
     "data": {
      "text/html": [
       "<div>\n",
       "<style scoped>\n",
       "    .dataframe tbody tr th:only-of-type {\n",
       "        vertical-align: middle;\n",
       "    }\n",
       "\n",
       "    .dataframe tbody tr th {\n",
       "        vertical-align: top;\n",
       "    }\n",
       "\n",
       "    .dataframe thead th {\n",
       "        text-align: right;\n",
       "    }\n",
       "</style>\n",
       "<table border=\"1\" class=\"dataframe\">\n",
       "  <thead>\n",
       "    <tr style=\"text-align: right;\">\n",
       "      <th></th>\n",
       "      <th>MIP</th>\n",
       "      <th>TG</th>\n",
       "    </tr>\n",
       "  </thead>\n",
       "  <tbody>\n",
       "    <tr>\n",
       "      <th>count</th>\n",
       "      <td>202.000000</td>\n",
       "      <td>202.000000</td>\n",
       "    </tr>\n",
       "    <tr>\n",
       "      <th>mean</th>\n",
       "      <td>76.901029</td>\n",
       "      <td>0.500000</td>\n",
       "    </tr>\n",
       "    <tr>\n",
       "      <th>std</th>\n",
       "      <td>9.286202</td>\n",
       "      <td>0.501242</td>\n",
       "    </tr>\n",
       "    <tr>\n",
       "      <th>min</th>\n",
       "      <td>65.078125</td>\n",
       "      <td>0.000000</td>\n",
       "    </tr>\n",
       "    <tr>\n",
       "      <th>25%</th>\n",
       "      <td>67.693359</td>\n",
       "      <td>0.000000</td>\n",
       "    </tr>\n",
       "    <tr>\n",
       "      <th>50%</th>\n",
       "      <td>78.132812</td>\n",
       "      <td>0.500000</td>\n",
       "    </tr>\n",
       "    <tr>\n",
       "      <th>75%</th>\n",
       "      <td>86.121094</td>\n",
       "      <td>1.000000</td>\n",
       "    </tr>\n",
       "    <tr>\n",
       "      <th>max</th>\n",
       "      <td>86.617188</td>\n",
       "      <td>1.000000</td>\n",
       "    </tr>\n",
       "  </tbody>\n",
       "</table>\n",
       "</div>"
      ],
      "text/plain": [
       "              MIP          TG\n",
       "count  202.000000  202.000000\n",
       "mean    76.901029    0.500000\n",
       "std      9.286202    0.501242\n",
       "min     65.078125    0.000000\n",
       "25%     67.693359    0.000000\n",
       "50%     78.132812    0.500000\n",
       "75%     86.121094    1.000000\n",
       "max     86.617188    1.000000"
      ]
     },
     "metadata": {},
     "output_type": "display_data"
    }
   ],
   "source": [
    "import pandas as pd\n",
    "from pandas import Series, DataFrame\n",
    "all_stars = pd.read_csv('pulsar_stars_new.csv', usecols=['MIP', 'TG'])\n",
    "\n",
    "kek = all_stars[(all_stars['TG'] == 0) & (85.5234375 <= all_stars['MIP']) & (all_stars['MIP'] <= 86.6171875) | (all_stars['TG'] == 1) & (65.078125 <= all_stars['MIP']) & (all_stars['MIP'] <= 70.7421875)] \n",
    "#all_stars.MIP.describe()\n"
   ]
  },
  {
   "cell_type": "code",
   "execution_count": 66,
   "metadata": {},
   "outputs": [
    {
     "data": {
      "text/html": [
       "<div>\n",
       "<style scoped>\n",
       "    .dataframe tbody tr th:only-of-type {\n",
       "        vertical-align: middle;\n",
       "    }\n",
       "\n",
       "    .dataframe tbody tr th {\n",
       "        vertical-align: top;\n",
       "    }\n",
       "\n",
       "    .dataframe thead th {\n",
       "        text-align: right;\n",
       "    }\n",
       "</style>\n",
       "<table border=\"1\" class=\"dataframe\">\n",
       "  <thead>\n",
       "    <tr style=\"text-align: right;\">\n",
       "      <th></th>\n",
       "      <th>REGION_NAME</th>\n",
       "      <th>SALARY</th>\n",
       "    </tr>\n",
       "  </thead>\n",
       "  <tbody>\n",
       "    <tr>\n",
       "      <th>0</th>\n",
       "      <td>¿¿¿¿¿¿¿¿¿ ¿¿¿¿</td>\n",
       "      <td>25960</td>\n",
       "    </tr>\n",
       "    <tr>\n",
       "      <th>1</th>\n",
       "      <td>¿¿¿¿¿¿¿¿ ¿¿¿¿¿¿¿</td>\n",
       "      <td>43156</td>\n",
       "    </tr>\n",
       "    <tr>\n",
       "      <th>2</th>\n",
       "      <td>¿¿¿¿¿¿¿¿¿¿¿¿¿ ¿¿¿¿¿¿¿</td>\n",
       "      <td>47526</td>\n",
       "    </tr>\n",
       "    <tr>\n",
       "      <th>3</th>\n",
       "      <td>¿¿¿¿¿¿¿¿¿¿¿¿ ¿¿¿¿¿¿¿</td>\n",
       "      <td>32166</td>\n",
       "    </tr>\n",
       "    <tr>\n",
       "      <th>4</th>\n",
       "      <td>¿¿¿¿¿¿¿¿¿¿¿¿ ¿¿¿¿¿¿¿</td>\n",
       "      <td>31163</td>\n",
       "    </tr>\n",
       "    <tr>\n",
       "      <th>...</th>\n",
       "      <td>...</td>\n",
       "      <td>...</td>\n",
       "    </tr>\n",
       "    <tr>\n",
       "      <th>80</th>\n",
       "      <td>¿¿¿¿¿¿¿¿¿ ¿¿¿¿¿¿¿¿¿¿</td>\n",
       "      <td>26108</td>\n",
       "    </tr>\n",
       "    <tr>\n",
       "      <th>81</th>\n",
       "      <td>¿¿¿¿¿¿¿¿¿ ¿¿¿¿¿¿¿¿¿¿</td>\n",
       "      <td>27028</td>\n",
       "    </tr>\n",
       "    <tr>\n",
       "      <th>82</th>\n",
       "      <td>¿¿¿¿¿¿¿¿¿ ¿¿</td>\n",
       "      <td>96930</td>\n",
       "    </tr>\n",
       "    <tr>\n",
       "      <th>83</th>\n",
       "      <td>¿¿¿¿¿-¿¿¿¿¿¿¿¿ ¿¿</td>\n",
       "      <td>86560</td>\n",
       "    </tr>\n",
       "    <tr>\n",
       "      <th>84</th>\n",
       "      <td>¿¿¿¿¿¿¿¿¿¿¿ ¿¿¿¿¿¿¿</td>\n",
       "      <td>33882</td>\n",
       "    </tr>\n",
       "  </tbody>\n",
       "</table>\n",
       "<p>85 rows × 2 columns</p>\n",
       "</div>"
      ],
      "text/plain": [
       "              REGION_NAME  SALARY\n",
       "0          ¿¿¿¿¿¿¿¿¿ ¿¿¿¿   25960\n",
       "1        ¿¿¿¿¿¿¿¿ ¿¿¿¿¿¿¿   43156\n",
       "2   ¿¿¿¿¿¿¿¿¿¿¿¿¿ ¿¿¿¿¿¿¿   47526\n",
       "3    ¿¿¿¿¿¿¿¿¿¿¿¿ ¿¿¿¿¿¿¿   32166\n",
       "4    ¿¿¿¿¿¿¿¿¿¿¿¿ ¿¿¿¿¿¿¿   31163\n",
       "..                    ...     ...\n",
       "80   ¿¿¿¿¿¿¿¿¿ ¿¿¿¿¿¿¿¿¿¿   26108\n",
       "81   ¿¿¿¿¿¿¿¿¿ ¿¿¿¿¿¿¿¿¿¿   27028\n",
       "82           ¿¿¿¿¿¿¿¿¿ ¿¿   96930\n",
       "83      ¿¿¿¿¿-¿¿¿¿¿¿¿¿ ¿¿   86560\n",
       "84    ¿¿¿¿¿¿¿¿¿¿¿ ¿¿¿¿¿¿¿   33882\n",
       "\n",
       "[85 rows x 2 columns]"
      ]
     },
     "execution_count": 66,
     "metadata": {},
     "output_type": "execute_result"
    }
   ],
   "source": [
    "import chardet\n",
    "import pandas as pd\n",
    "\n",
    "with open('report.csv', 'rb') as f:\n",
    "    enc = chardet.detect(f.read())  # or readline if the file is large\n",
    "    \n",
    "pd.read_csv('report.csv', encoding = enc['encoding'])"
   ]
  },
  {
   "cell_type": "code",
   "execution_count": 78,
   "metadata": {},
   "outputs": [
    {
     "name": "stdout",
     "output_type": "stream",
     "text": [
      "<codecs.StreamReaderWriter object at 0x000001587617C130>\n"
     ]
    }
   ],
   "source": [
    "import codecs\n",
    "text = codecs.open('report.csv', 'r', 'utf-8')\n",
    "print(text)"
   ]
  },
  {
   "cell_type": "code",
   "execution_count": 81,
   "metadata": {},
   "outputs": [
    {
     "ename": "Error",
     "evalue": "iterator should return strings, not bytes (did you open the file in text mode?)",
     "output_type": "error",
     "traceback": [
      "\u001b[1;31m---------------------------------------------------------------------------\u001b[0m",
      "\u001b[1;31mError\u001b[0m                                     Traceback (most recent call last)",
      "\u001b[1;32mc:\\Users\\NikitaV\\Desktop\\Online_Edu\\open_edu\\VVedenie_AI\\zadanie_2.ipynb Ячейка 4\u001b[0m in \u001b[0;36m<cell line: 2>\u001b[1;34m()\u001b[0m\n\u001b[0;32m      <a href='vscode-notebook-cell:/c%3A/Users/NikitaV/Desktop/Online_Edu/open_edu/VVedenie_AI/zadanie_2.ipynb#W4sZmlsZQ%3D%3D?line=0'>1</a>\u001b[0m \u001b[39mimport\u001b[39;00m \u001b[39mcsv\u001b[39;00m\n\u001b[0;32m      <a href='vscode-notebook-cell:/c%3A/Users/NikitaV/Desktop/Online_Edu/open_edu/VVedenie_AI/zadanie_2.ipynb#W4sZmlsZQ%3D%3D?line=1'>2</a>\u001b[0m \u001b[39mwith\u001b[39;00m \u001b[39mopen\u001b[39m(\u001b[39m'\u001b[39m\u001b[39mreport.csv\u001b[39m\u001b[39m'\u001b[39m, mode\u001b[39m=\u001b[39m\u001b[39m'\u001b[39m\u001b[39mrb\u001b[39m\u001b[39m'\u001b[39m) \u001b[39mas\u001b[39;00m csvfile:\n\u001b[1;32m----> <a href='vscode-notebook-cell:/c%3A/Users/NikitaV/Desktop/Online_Edu/open_edu/VVedenie_AI/zadanie_2.ipynb#W4sZmlsZQ%3D%3D?line=2'>3</a>\u001b[0m     csv_reader \u001b[39m=\u001b[39m \u001b[39mlist\u001b[39;49m(csv\u001b[39m.\u001b[39;49mreader(csvfile, delimiter\u001b[39m=\u001b[39;49m\u001b[39m'\u001b[39;49m\u001b[39m,\u001b[39;49m\u001b[39m'\u001b[39;49m))\n\u001b[0;32m      <a href='vscode-notebook-cell:/c%3A/Users/NikitaV/Desktop/Online_Edu/open_edu/VVedenie_AI/zadanie_2.ipynb#W4sZmlsZQ%3D%3D?line=4'>5</a>\u001b[0m     \u001b[39mprint\u001b[39m(csv_reader)\n",
      "\u001b[1;31mError\u001b[0m: iterator should return strings, not bytes (did you open the file in text mode?)"
     ]
    }
   ],
   "source": [
    "import csv\n",
    "with open('report.csv', encoding='unicode_escape', mode='r') as csvfile:\n",
    "    csv_reader = list(csv.reader(csvfile, delimiter=','))\n",
    "\n",
    "    print(csv_reader)"
   ]
  },
  {
   "cell_type": "code",
   "execution_count": 155,
   "metadata": {},
   "outputs": [
    {
     "data": {
      "text/plain": [
       "<bound method NDFrame.describe of               region_name  salary\n",
       "0          Алтайский край   25960\n",
       "1        Амурская область   43156\n",
       "2   Архангельская область   47526\n",
       "3    Астраханская область   32166\n",
       "4    Белгородская область   31163\n",
       "..                    ...     ...\n",
       "80   Чеченская Республика   26108\n",
       "81   Чувашская Республика   27028\n",
       "82           Чукотский АО   96930\n",
       "83      Ямало-Ненецкий АО   86560\n",
       "84    Ярославская область   33882\n",
       "\n",
       "[85 rows x 2 columns]>"
      ]
     },
     "execution_count": 155,
     "metadata": {},
     "output_type": "execute_result"
    }
   ],
   "source": [
    "import pandas as pd\n",
    "df = pd.read_csv('dataS.csv', delimiter=',', usecols=['salary', 'region_name'])\n",
    "df.describe\n",
    "#df.head(10)\n"
   ]
  },
  {
   "cell_type": "code",
   "execution_count": 171,
   "metadata": {},
   "outputs": [
    {
     "name": "stdout",
     "output_type": "stream",
     "text": [
      "32089.5\n"
     ]
    }
   ],
   "source": [
    "import pandas as pd\n",
    "df = pd.read_csv('dataS.csv', delimiter=',', usecols=['salary', 'region_name'], index_col='region_name')\n",
    "df.describe\n",
    "df1 = df.drop(axis=0, labels=['Самарская область', 'Нижегородская область', 'Кемеровская область', 'Приморский край', 'Ненецкий АО'])\n",
    "df1.describe\n",
    "df_sorted = df1.sort_values(by='salary', ascending=True)\n",
    "df_sorted.describe\n",
    "medium = (df_sorted.salary[39] + df_sorted.salary[40]) / 2\n",
    "print(medium)"
   ]
  },
  {
   "cell_type": "code",
   "execution_count": 184,
   "metadata": {},
   "outputs": [
    {
     "ename": "KeyError",
     "evalue": "45",
     "output_type": "error",
     "traceback": [
      "\u001b[1;31m---------------------------------------------------------------------------\u001b[0m",
      "\u001b[1;31mKeyError\u001b[0m                                  Traceback (most recent call last)",
      "File \u001b[1;32mc:\\Users\\NikitaV\\anaconda3\\lib\\site-packages\\pandas\\core\\indexes\\base.py:3621\u001b[0m, in \u001b[0;36mIndex.get_loc\u001b[1;34m(self, key, method, tolerance)\u001b[0m\n\u001b[0;32m   3620\u001b[0m \u001b[39mtry\u001b[39;00m:\n\u001b[1;32m-> 3621\u001b[0m     \u001b[39mreturn\u001b[39;00m \u001b[39mself\u001b[39;49m\u001b[39m.\u001b[39;49m_engine\u001b[39m.\u001b[39;49mget_loc(casted_key)\n\u001b[0;32m   3622\u001b[0m \u001b[39mexcept\u001b[39;00m \u001b[39mKeyError\u001b[39;00m \u001b[39mas\u001b[39;00m err:\n",
      "File \u001b[1;32mc:\\Users\\NikitaV\\anaconda3\\lib\\site-packages\\pandas\\_libs\\index.pyx:136\u001b[0m, in \u001b[0;36mpandas._libs.index.IndexEngine.get_loc\u001b[1;34m()\u001b[0m\n",
      "File \u001b[1;32mc:\\Users\\NikitaV\\anaconda3\\lib\\site-packages\\pandas\\_libs\\index.pyx:163\u001b[0m, in \u001b[0;36mpandas._libs.index.IndexEngine.get_loc\u001b[1;34m()\u001b[0m\n",
      "File \u001b[1;32mpandas\\_libs\\hashtable_class_helper.pxi:5198\u001b[0m, in \u001b[0;36mpandas._libs.hashtable.PyObjectHashTable.get_item\u001b[1;34m()\u001b[0m\n",
      "File \u001b[1;32mpandas\\_libs\\hashtable_class_helper.pxi:5206\u001b[0m, in \u001b[0;36mpandas._libs.hashtable.PyObjectHashTable.get_item\u001b[1;34m()\u001b[0m\n",
      "\u001b[1;31mKeyError\u001b[0m: 45",
      "\nThe above exception was the direct cause of the following exception:\n",
      "\u001b[1;31mKeyError\u001b[0m                                  Traceback (most recent call last)",
      "\u001b[1;32mc:\\Users\\NikitaV\\Desktop\\Online_Edu\\open_edu\\VVedenie_AI\\zadanie_2.ipynb Ячейка 7\u001b[0m in \u001b[0;36m<cell line: 18>\u001b[1;34m()\u001b[0m\n\u001b[0;32m     <a href='vscode-notebook-cell:/c%3A/Users/NikitaV/Desktop/Online_Edu/open_edu/VVedenie_AI/zadanie_2.ipynb#X13sZmlsZQ%3D%3D?line=15'>16</a>\u001b[0m df1 \u001b[39m=\u001b[39m df\u001b[39m.\u001b[39mdrop(axis\u001b[39m=\u001b[39m\u001b[39m0\u001b[39m, labels\u001b[39m=\u001b[39m[\u001b[39m'\u001b[39m\u001b[39mСамарская область\u001b[39m\u001b[39m'\u001b[39m, \u001b[39m'\u001b[39m\u001b[39mНижегородская область\u001b[39m\u001b[39m'\u001b[39m, \u001b[39m'\u001b[39m\u001b[39mКемеровская область\u001b[39m\u001b[39m'\u001b[39m, \u001b[39m'\u001b[39m\u001b[39mПриморский край\u001b[39m\u001b[39m'\u001b[39m, \u001b[39m'\u001b[39m\u001b[39mНенецкий АО\u001b[39m\u001b[39m'\u001b[39m])\n\u001b[0;32m     <a href='vscode-notebook-cell:/c%3A/Users/NikitaV/Desktop/Online_Edu/open_edu/VVedenie_AI/zadanie_2.ipynb#X13sZmlsZQ%3D%3D?line=16'>17</a>\u001b[0m df1\u001b[39m.\u001b[39mdescribe\n\u001b[1;32m---> <a href='vscode-notebook-cell:/c%3A/Users/NikitaV/Desktop/Online_Edu/open_edu/VVedenie_AI/zadanie_2.ipynb#X13sZmlsZQ%3D%3D?line=17'>18</a>\u001b[0m df2 \u001b[39m=\u001b[39m sorte(df1)\n",
      "\u001b[1;32mc:\\Users\\NikitaV\\Desktop\\Online_Edu\\open_edu\\VVedenie_AI\\zadanie_2.ipynb Ячейка 7\u001b[0m in \u001b[0;36msorte\u001b[1;34m(func)\u001b[0m\n\u001b[0;32m     <a href='vscode-notebook-cell:/c%3A/Users/NikitaV/Desktop/Online_Edu/open_edu/VVedenie_AI/zadanie_2.ipynb#X13sZmlsZQ%3D%3D?line=9'>10</a>\u001b[0m     \u001b[39mif\u001b[39;00m func\u001b[39m.\u001b[39msalary[k] \u001b[39m<\u001b[39m func\u001b[39m.\u001b[39msalary[l]:\n\u001b[0;32m     <a href='vscode-notebook-cell:/c%3A/Users/NikitaV/Desktop/Online_Edu/open_edu/VVedenie_AI/zadanie_2.ipynb#X13sZmlsZQ%3D%3D?line=10'>11</a>\u001b[0m         l \u001b[39m=\u001b[39m k\n\u001b[1;32m---> <a href='vscode-notebook-cell:/c%3A/Users/NikitaV/Desktop/Online_Edu/open_edu/VVedenie_AI/zadanie_2.ipynb#X13sZmlsZQ%3D%3D?line=11'>12</a>\u001b[0m swap(func, l, i)\n",
      "\u001b[1;32mc:\\Users\\NikitaV\\Desktop\\Online_Edu\\open_edu\\VVedenie_AI\\zadanie_2.ipynb Ячейка 7\u001b[0m in \u001b[0;36mswap\u001b[1;34m(v, x, y)\u001b[0m\n\u001b[0;32m      <a href='vscode-notebook-cell:/c%3A/Users/NikitaV/Desktop/Online_Edu/open_edu/VVedenie_AI/zadanie_2.ipynb#X13sZmlsZQ%3D%3D?line=1'>2</a>\u001b[0m \u001b[39mdef\u001b[39;00m \u001b[39mswap\u001b[39m(v, x, y):\n\u001b[1;32m----> <a href='vscode-notebook-cell:/c%3A/Users/NikitaV/Desktop/Online_Edu/open_edu/VVedenie_AI/zadanie_2.ipynb#X13sZmlsZQ%3D%3D?line=2'>3</a>\u001b[0m     t \u001b[39m=\u001b[39m v[x]\n\u001b[0;32m      <a href='vscode-notebook-cell:/c%3A/Users/NikitaV/Desktop/Online_Edu/open_edu/VVedenie_AI/zadanie_2.ipynb#X13sZmlsZQ%3D%3D?line=3'>4</a>\u001b[0m     v[x] \u001b[39m=\u001b[39m v[y]\n\u001b[0;32m      <a href='vscode-notebook-cell:/c%3A/Users/NikitaV/Desktop/Online_Edu/open_edu/VVedenie_AI/zadanie_2.ipynb#X13sZmlsZQ%3D%3D?line=4'>5</a>\u001b[0m     v[y] \u001b[39m=\u001b[39m t\n",
      "File \u001b[1;32mc:\\Users\\NikitaV\\anaconda3\\lib\\site-packages\\pandas\\core\\frame.py:3505\u001b[0m, in \u001b[0;36mDataFrame.__getitem__\u001b[1;34m(self, key)\u001b[0m\n\u001b[0;32m   3503\u001b[0m \u001b[39mif\u001b[39;00m \u001b[39mself\u001b[39m\u001b[39m.\u001b[39mcolumns\u001b[39m.\u001b[39mnlevels \u001b[39m>\u001b[39m \u001b[39m1\u001b[39m:\n\u001b[0;32m   3504\u001b[0m     \u001b[39mreturn\u001b[39;00m \u001b[39mself\u001b[39m\u001b[39m.\u001b[39m_getitem_multilevel(key)\n\u001b[1;32m-> 3505\u001b[0m indexer \u001b[39m=\u001b[39m \u001b[39mself\u001b[39;49m\u001b[39m.\u001b[39;49mcolumns\u001b[39m.\u001b[39;49mget_loc(key)\n\u001b[0;32m   3506\u001b[0m \u001b[39mif\u001b[39;00m is_integer(indexer):\n\u001b[0;32m   3507\u001b[0m     indexer \u001b[39m=\u001b[39m [indexer]\n",
      "File \u001b[1;32mc:\\Users\\NikitaV\\anaconda3\\lib\\site-packages\\pandas\\core\\indexes\\base.py:3623\u001b[0m, in \u001b[0;36mIndex.get_loc\u001b[1;34m(self, key, method, tolerance)\u001b[0m\n\u001b[0;32m   3621\u001b[0m     \u001b[39mreturn\u001b[39;00m \u001b[39mself\u001b[39m\u001b[39m.\u001b[39m_engine\u001b[39m.\u001b[39mget_loc(casted_key)\n\u001b[0;32m   3622\u001b[0m \u001b[39mexcept\u001b[39;00m \u001b[39mKeyError\u001b[39;00m \u001b[39mas\u001b[39;00m err:\n\u001b[1;32m-> 3623\u001b[0m     \u001b[39mraise\u001b[39;00m \u001b[39mKeyError\u001b[39;00m(key) \u001b[39mfrom\u001b[39;00m \u001b[39merr\u001b[39;00m\n\u001b[0;32m   3624\u001b[0m \u001b[39mexcept\u001b[39;00m \u001b[39mTypeError\u001b[39;00m:\n\u001b[0;32m   3625\u001b[0m     \u001b[39m# If we have a listlike key, _check_indexing_error will raise\u001b[39;00m\n\u001b[0;32m   3626\u001b[0m     \u001b[39m#  InvalidIndexError. Otherwise we fall through and re-raise\u001b[39;00m\n\u001b[0;32m   3627\u001b[0m     \u001b[39m#  the TypeError.\u001b[39;00m\n\u001b[0;32m   3628\u001b[0m     \u001b[39mself\u001b[39m\u001b[39m.\u001b[39m_check_indexing_error(key)\n",
      "\u001b[1;31mKeyError\u001b[0m: 45"
     ]
    }
   ],
   "source": [
    "import pandas as pd\n",
    "def swap(v, x, y):\n",
    "    t = v[x]\n",
    "    v[x] = v[y]\n",
    "    v[y] = t\n",
    "def sorte(func):\n",
    "    for i in range(len(func.index)):\n",
    "        l = i\n",
    "        for k in range(i+1, len(func.index)-1):\n",
    "            if func.salary[k] < func.salary[l]:\n",
    "                l = k\n",
    "        swap(func, l, i)\n",
    "\n",
    "df = pd.read_csv('dataS.csv', delimiter=',', usecols=['salary', 'region_name'], index_col='region_name')\n",
    "df.describe\n",
    "df1 = df.drop(axis=0, labels=['Самарская область', 'Нижегородская область', 'Кемеровская область', 'Приморский край', 'Ненецкий АО'])\n",
    "df1.describe\n",
    "df2 = sorte(df1)\n"
   ]
  },
  {
   "cell_type": "code",
   "execution_count": 161,
   "metadata": {},
   "outputs": [
    {
     "ename": "IndexError",
     "evalue": "list index out of range",
     "output_type": "error",
     "traceback": [
      "\u001b[1;31m---------------------------------------------------------------------------\u001b[0m",
      "\u001b[1;31mIndexError\u001b[0m                                Traceback (most recent call last)",
      "\u001b[1;32mc:\\Users\\NikitaV\\Desktop\\Online_Edu\\open_edu\\VVedenie_AI\\zadanie_2.ipynb Ячейка 7\u001b[0m in \u001b[0;36m<cell line: 4>\u001b[1;34m()\u001b[0m\n\u001b[0;32m      <a href='vscode-notebook-cell:/c%3A/Users/NikitaV/Desktop/Online_Edu/open_edu/VVedenie_AI/zadanie_2.ipynb#X10sZmlsZQ%3D%3D?line=1'>2</a>\u001b[0m df1\u001b[39m.\u001b[39mdescribe()\n\u001b[0;32m      <a href='vscode-notebook-cell:/c%3A/Users/NikitaV/Desktop/Online_Edu/open_edu/VVedenie_AI/zadanie_2.ipynb#X10sZmlsZQ%3D%3D?line=2'>3</a>\u001b[0m df2 \u001b[39m=\u001b[39m \u001b[39msorted\u001b[39m(df1)\n\u001b[1;32m----> <a href='vscode-notebook-cell:/c%3A/Users/NikitaV/Desktop/Online_Edu/open_edu/VVedenie_AI/zadanie_2.ipynb#X10sZmlsZQ%3D%3D?line=3'>4</a>\u001b[0m mediana \u001b[39m=\u001b[39m (df2[\u001b[39m39\u001b[39;49m] \u001b[39m+\u001b[39m df2[\u001b[39m40\u001b[39m])\u001b[39m/\u001b[39m\u001b[39m2\u001b[39m\n",
      "\u001b[1;31mIndexError\u001b[0m: list index out of range"
     ]
    }
   ],
   "source": [
    "df1 = df.drop(axis=0, labels=['Самарская область', 'Нижегородская область', 'Кемеровская область', 'Приморский край', 'Ненецкий АО'])\n",
    "df1.describe()\n",
    "df2 = sorted(df1)\n",
    "mediana = (df2[39] + df2[40])/2"
   ]
  },
  {
   "cell_type": "code",
   "execution_count": null,
   "metadata": {},
   "outputs": [],
   "source": [
    ">>> sorted(\"This is a test string from Andrew\".split(), key=str.lower)\n",
    "['a', 'Andrew', 'from', 'is', 'string', 'test', 'This']"
   ]
  }
 ],
 "metadata": {
  "kernelspec": {
   "display_name": "Python 3.9.12 ('base')",
   "language": "python",
   "name": "python3"
  },
  "language_info": {
   "codemirror_mode": {
    "name": "ipython",
    "version": 3
   },
   "file_extension": ".py",
   "mimetype": "text/x-python",
   "name": "python",
   "nbconvert_exporter": "python",
   "pygments_lexer": "ipython3",
   "version": "3.9.12"
  },
  "orig_nbformat": 4,
  "vscode": {
   "interpreter": {
    "hash": "a33a2aead1665bfe1a3f27bce7dff0ac64d07dd12f2f701fcb3e3807aa6050a5"
   }
  }
 },
 "nbformat": 4,
 "nbformat_minor": 2
}
