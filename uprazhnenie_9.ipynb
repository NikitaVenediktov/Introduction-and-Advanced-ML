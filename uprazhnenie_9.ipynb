#чтение данных, так как названия конфет уникальны, используем их в качестве индекса
import numpy as np
import pandas as pd
from sklearn.cluster import KMeans
from functools import reduce
from math import sqrt

DATA = pd.read_csv("data.csv", delimiter=',', index_col='Object')

#удаление столбца Cluster из набора данных
coords = DATA.drop('Cluster', axis=1)

#координаты центроидов
centroid = np.array([[11.6, 12.4], [12.13, 9.13], [1.5, 18.0]])

#инициализация модели
kmeans = KMeans(n_clusters=3, init=centroid, max_iter=100, n_init=1)

#обучение модели на данных из coords
model = kmeans.fit(coords)

print(model.labels_.tolist())

#обучение модели и расчет расстояний до центроидов
alldistances = kmeans.fit_transform(coords)

first_cluster = [[15,15], [16,13], [11,20], [11, 12], [17,12], [19,12]]

centr_x = sum([dot[0] for dot in first_cluster]) / len(first_cluster)
centr_y = sum([dot[1] for dot in first_cluster]) / len(first_cluster)

first_cluster_distances = [sqrt((dot[0] - centr_x) ** 2 + (dot[1] - centr_y) ** 2) for dot in first_cluster]

distances_sum = reduce(lambda prev, cur: prev + cur, first_cluster_distances)


print(distances_sum / len(first_cluster_distances))
