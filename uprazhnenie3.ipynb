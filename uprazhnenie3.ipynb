{
  "nbformat": 4,
  "nbformat_minor": 0,
  "metadata": {
    "colab": {
      "provenance": []
    },
    "kernelspec": {
      "name": "python3",
      "display_name": "Python 3"
    },
    "language_info": {
      "name": "python"
    }
  },
  "cells": [
    {
      "cell_type": "code",
      "metadata": {
        "id": "1_IKWuroGGNM"
      },
      "source": [
        "from statistics import mean\n",
        "from math import sqrt\n",
        "import pandas as pd\n",
        "from sklearn.linear_model import LinearRegression"
      ],
      "execution_count": null,
      "outputs": []
    },
    {
      "cell_type": "markdown",
      "metadata": {
        "id": "ZY6MnWo-2toH"
      },
      "source": [
        "# Простейшая линейная регрессия"
      ]
    },
    {
      "cell_type": "code",
      "metadata": {
        "id": "LTeaTPkZ2uj9"
      },
      "source": [
        "\n",
        "# input\n",
        "x = [13,4,11,20]\n",
        "y = [8,5,6,15]"
      ],
      "execution_count": null,
      "outputs": []
    },
    {
      "cell_type": "code",
      "metadata": {
        "id": "dM1tf6L-2CDh"
      },
      "source": [
        "avg_x = mean(x)\n",
        "avg_y = mean(y)\n",
        "\n",
        "teta_1 = sum([(x_i - avg_x)*(y_i - avg_y) for x_i, y_i in zip(x,y)]) / sum(list(map(lambda x_i: pow(x_i - avg_x, 2), x)))\n",
        "teta_0 = avg_y - teta_1 * avg_x\n",
        "\n",
        "st_criteria = 4.303\n",
        "\n",
        "error = sum([(y_i - teta_0 - teta_1 * x_i) * (y_i - teta_0 - teta_1 * x_i) for x_i, y_i in zip(x,y)])\n",
        "\n",
        "left = sqrt(error / 2 )\n",
        "\n",
        "SE_teta0 =  left * sqrt(1/4 + pow(avg_x, 2) / (sum(list(map(lambda x_i: (x_i - avg_x) * (x_i - avg_x), x)))))\n",
        "SE_teta1 = left * sqrt(1 / (sum(list(map(lambda x_i: pow(x_i - avg_x,2), x)))))\n",
        "\n",
        "teta_0_minus =  teta_0 - st_criteria * SE_teta0\n",
        "teta_0_plus =  teta_0 + st_criteria * SE_teta0\n",
        "\n",
        "teta_1_minus =  teta_1 - st_criteria * SE_teta1\n",
        "teta_1_plus =  teta_1 + st_criteria * SE_teta1\n",
        "t = teta_1/SE_teta1\n",
        "\n",
        "RSE = sqrt(0.5 * error)\n",
        "r_sqr = 1 - error/sum(list(map(lambda y_i: pow(y_i - avg_y, 2), y)))"
      ],
      "execution_count": null,
      "outputs": []
    },
    {
      "cell_type": "code",
      "metadata": {
        "id": "cvwn7Ru52Rns"
      },
      "source": [
        "print(teta_1)\n",
        "print(teta_0)\n",
        "print(SE_teta0)\n",
        "print(SE_teta1)\n",
        "print(teta_0_minus, teta_0_plus, teta_1_minus, teta_1_plus, sep='\\n' )\n",
        "print(t)\n",
        "\n",
        "print('RSE = {}'.format(RSE))\n",
        "print('r_sqr = {}'.format(r_sqr))"
      ],
      "execution_count": null,
      "outputs": []
    },
    {
      "cell_type": "markdown",
      "metadata": {
        "id": "TIJMJX0M2gXg"
      },
      "source": [
        "# Множественная линейная регрессия. Упражнение 2\n"
      ]
    },
    {
      "cell_type": "markdown",
      "metadata": {
        "id": "Wt_Yx9ZHMqnR"
      },
      "source": [
        "## 1 часть. Простейшая регрессия"
      ]
    },
    {
      "cell_type": "code",
      "metadata": {
        "id": "1qaEiuxK21wz"
      },
      "source": [
        "DATA = pd.read_csv(\"2_exercise.csv\", delimiter=',', index_col='id')\n",
        "train_data = DATA\n",
        "\n",
        "#отбираем данные для предикторов, удаляя последний столбец\n",
        "X = pd.DataFrame(train_data.drop(['Y'], axis=1))\n",
        "#указываем столбец отклика\n",
        "y = pd.DataFrame(train_data.drop(['X'], axis=1))\n",
        "#обучение модели\n",
        "reg = LinearRegression().fit(X, y)\n",
        "print(X.mean(), y.mean(), sep=\"\\n\")\n",
        "print(reg.coef_, reg.intercept_, reg.score(X, y), sep=\"\\n\")\n"
      ],
      "execution_count": null,
      "outputs": []
    },
    {
      "cell_type": "markdown",
      "metadata": {
        "id": "yxTd0ZStMvQ4"
      },
      "source": [
        "## 2 часть. Множественная регрессия"
      ]
    },
    {
      "cell_type": "code",
      "metadata": {
        "id": "5hkbBW-6M2NE"
      },
      "source": [
        "DATA = pd.read_csv(\"candy-data.csv\", delimiter=',', index_col='competitorname')\n",
        "\n",
        "rows_to_exclude = ['Dum Dums', 'Lifesavers big ring gummies']\n",
        "\n",
        "train_data = DATA.drop(rows_to_exclude)\n",
        "print(train_data)\n",
        "\n",
        "#отбираем данные для предикторов, удаляя последний столбец\n",
        "X = pd.DataFrame(train_data.drop(['winpercent','Y'], axis=1))\n",
        "#указываем столбец отклика\n",
        "y = pd.DataFrame(train_data['winpercent'])\n",
        "#обучение модели\n",
        "reg = LinearRegression().fit(X, y)\n",
        "\n",
        "#предсказание для конфет из таблицы\n",
        "\n",
        "#выбираем строку из таблицы\n",
        "DumDums = DATA.loc[rows_to_exclude[0],:].to_frame().T\n",
        "LifeSavers = DATA.loc[rows_to_exclude[1],:].to_frame().T\n",
        "\n",
        "#отбираем данные для предикторов и выполняем предсказание с помощью модели\n",
        "DumDums_predict = reg.predict(DumDums.drop(['winpercent', 'Y'], axis=1))\n",
        "LifeSavers_predict = reg.predict(LifeSavers.drop(['winpercent', 'Y'], axis=1))\n",
        "manual =reg.predict([[0, 0, 1, 1, 0, 0, 0, 0, 0, 0.339, 0.564]])\n",
        "\n",
        "#предсказания\n",
        "print(DumDums_predict)\n",
        "print(LifeSavers_predict)\n",
        "print(manual)"
      ],
      "execution_count": null,
      "outputs": []
    }
  ]
}