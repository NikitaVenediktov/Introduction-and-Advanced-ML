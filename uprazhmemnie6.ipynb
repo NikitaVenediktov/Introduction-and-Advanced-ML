{
  "nbformat": 4,
  "nbformat_minor": 0,
  "metadata": {
    "colab": {
      "provenance": [],
      "toc_visible": true
    },
    "kernelspec": {
      "name": "python3",
      "display_name": "Python 3"
    },
    "language_info": {
      "name": "python"
    }
  },
  "cells": [
    {
      "cell_type": "code",
      "metadata": {
        "id": "hyFdzThPo_VS"
      },
      "source": [
        "import pandas as pd\n",
        "from sklearn.linear_model import LogisticRegression\n",
        "from sklearn import metrics\n",
        "import matplotlib.pyplot as plt\n",
        "%matplotlib inline"
      ],
      "execution_count": null,
      "outputs": []
    },
    {
      "cell_type": "markdown",
      "metadata": {
        "id": "GcowLl_Lqwfp"
      },
      "source": [
        "# Логистическая регрессия. Упражнение 3"
      ]
    },
    {
      "cell_type": "code",
      "metadata": {
        "colab": {
          "base_uri": "https://localhost:8080/",
          "height": 652
        },
        "id": "EhL_vzXgq83p",
        "outputId": "995a60ae-635a-44f7-d76d-1e4cdc325658"
      },
      "source": [
        "#чтение данных, так как названия конфет уникальны, используем их в качестве индекса\n",
        "import pandas as pd\n",
        "DATA = pd.read_csv(\"candy-data.csv\", delimiter=',', index_col='competitorname')\n",
        "TEST = pd.read_csv(\"candy-test.csv\", delimiter=',', index_col='competitorname')\n",
        "\n",
        "#обучение модели будем проводить на данных, за исключением некоторых конфет\n",
        "rows_to_exclude = 'Nestle Crunch, Skittles wildberry, Sour Patch Tricksters'.split(', ')\n",
        "train_data = DATA.drop(rows_to_exclude)\n",
        "print(train_data)\n",
        "\n",
        "#отбор данных для предикторов, удаление дввух последних столбцов, индекс не включается в данные автоматически.\n",
        "X = pd.DataFrame(train_data.drop(['winpercent', 'Y'], axis=1))\n",
        "#отбор столбца для отклика\n",
        "y = pd.DataFrame(train_data['Y'])\n",
        "\n",
        "# Обучение модели логистической регрессии\n",
        "\n",
        "reg = LogisticRegression(random_state=2019, solver='lbfgs').fit(X, y.values.ravel())\n",
        "\n",
        "#предсказание для сладости из таблицы\n",
        "#выбор строки из таблицы\n",
        "\n",
        "# Оценка модели с помощью тестовых данных\n",
        "X_test = pd.DataFrame(TEST.drop(['Y'], axis=1))\n",
        "Trolli = X_test.loc['Trolli Sour Bites',:].to_frame().T\n",
        "Twizzlers = X_test.loc['Twizzlers',:].to_frame().T\n",
        "trolli_probability = reg.predict_proba(Trolli)\n",
        "twizzlers_probability = reg.predict_proba(Twizzlers)\n",
        "\n",
        "# Вычисление метрик\n",
        "#отбор отклика Y из тестовых данных и преобразование в массив\n",
        "\n",
        "#предсказание с помощью обученной модели, порог отсечения по умолчанию составляет 0.5\n",
        "Y_pred = reg.predict(X_test)\n",
        "\n",
        "#вероятности отнесения к 0 и 1 классу объектов тестовых данных соответствнно\n",
        "Y_pred_probs = reg.predict_proba(X_test)\n",
        "\n",
        "#отбор вероятностей отнесения объектов к классу 1\n",
        "Y_pred_probs_class_1 = Y_pred_probs[:, 1]\n",
        "\n",
        "Y_true = (TEST['Y'].to_frame().T).values.ravel()\n",
        "\n",
        "fpr, tpr, _ = metrics.roc_curve(Y_true, Y_pred)\n",
        "\n",
        "#вычисляем AUC\n",
        "auc = metrics.roc_auc_score(Y_true, Y_pred_probs_class_1)\n",
        "\n",
        "#вычисление Recall\n",
        "recall = metrics.recall_score(Y_true, Y_pred)\n",
        "\n",
        "#вычисление Precision\n",
        "precision = metrics.precision_score(Y_true, Y_pred)\n",
        "\n",
        "print('trolli probability: {}'.format(trolli_probability[:, 1]))\n",
        "print('twizzlers_probability: {}'.format(twizzlers_probability[:, 1]))\n",
        "print('tpr: ', tpr)\n",
        "print('auc: ', auc)\n",
        "print('recall: ', recall)\n",
        "print('precision: ', precision)\n",
        "\n",
        "\n",
        "metrics.plot_roc_curve(reg, X_test, Y_true, color='darkorange') \n",
        "plt.xlim([0.0, 1.0])\n",
        "plt.ylim([0.0, 1.05])\n",
        "plt.xlabel('False Positive Rate')\n",
        "plt.ylabel('True Positive Rate')\n",
        "plt.title('Receiver operating characteristic example')\n",
        "plt.legend(loc=\"lower right\")\n",
        "plt.plot([0, 1], [0, 1], color='navy', lw=2, linestyle='--')\n",
        "plt.show()"
      ],
      "execution_count": null,
      "outputs": [
        {
          "output_type": "stream",
          "text": [
            "                     chocolate  fruity  caramel  ...  pricepercent  winpercent  Y\n",
            "competitorname                                   ...                             \n",
            "100 Grand                    1       0        1  ...         0.860   66.971725  1\n",
            "3 Musketeers                 1       0        0  ...         0.511   67.602936  1\n",
            "One dime                     0       0        0  ...         0.116   32.261086  0\n",
            "One quarter                  0       0        0  ...         0.511   46.116505  0\n",
            "Air Heads                    0       1        0  ...         0.511   52.341465  1\n",
            "...                        ...     ...      ...  ...           ...         ... ..\n",
            "Snickers                     1       0        1  ...         0.651   76.673782  1\n",
            "Snickers Crisper             1       0        1  ...         0.651   59.529251  1\n",
            "Sour Patch Kids              0       1        0  ...         0.116   59.863998  1\n",
            "Starburst                    0       1        0  ...         0.220   67.037628  1\n",
            "Strawberry bon bons          0       1        0  ...         0.058   34.578991  0\n",
            "\n",
            "[67 rows x 13 columns]\n",
            "trolli probability: [0.29167789]\n",
            "twizzlers_probability: [0.3037946]\n",
            "tpr:  [0.  0.6 1. ]\n",
            "auc:  0.84\n",
            "recall:  0.6\n",
            "precision:  0.5\n"
          ],
          "name": "stdout"
        },
        {
          "output_type": "display_data",
          "data": {
            "image/png": "[encoded data removed]",
            "text/plain": [
              "<Figure size 432x288 with 1 Axes>"
            ]
          },
          "metadata": {
            "tags": [],
            "needs_background": "light"
          }
        }
      ]
    }
  ]
}