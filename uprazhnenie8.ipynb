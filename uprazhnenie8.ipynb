{
  "nbformat": 4,
  "nbformat_minor": 0,
  "metadata": {
    "colab": {
      "provenance": []
    },
    "kernelspec": {
      "name": "python3",
      "display_name": "Python 3"
    },
    "language_info": {
      "name": "python"
    }
  },
  "cells": [
    {
      "cell_type": "code",
      "execution_count": 1,
      "metadata": {
        "id": "S620LIybK11c"
      },
      "outputs": [],
      "source": [
        "import pandas as pd\n",
        "import numpy as np\n",
        "from sklearn.tree import DecisionTreeClassifier\n",
        "import sys"
      ]
    },
    {
      "cell_type": "code",
      "source": [
        "df = pd.read_csv('diabetes.csv')"
      ],
      "metadata": {
        "id": "ENia7lXiLk6A"
      },
      "execution_count": 2,
      "outputs": []
    },
    {
      "cell_type": "code",
      "source": [
        "import pandas as pd\n",
        "from sklearn.model_selection import train_test_split\n",
        "from sklearn.tree import DecisionTreeClassifier\n",
        "from sklearn.tree import export_graphviz\n",
        "import graphviz\n",
        "from sklearn.metrics import accuracy_score\n",
        "from sklearn.metrics import f1_score"
      ],
      "metadata": {
        "id": "nBaF7KXlK4BQ"
      },
      "execution_count": 3,
      "outputs": []
    },
    {
      "cell_type": "code",
      "source": [
        "sub_df = df.iloc[0:670]\n",
        "sub_df"
      ],
      "metadata": {
        "id": "jVOHBeA4_lUJ",
        "colab": {
          "base_uri": "https://localhost:8080/",
          "height": 424
        },
        "outputId": "f5507009-5fbd-44f0-a002-7c9a4d378482"
      },
      "execution_count": 7,
      "outputs": [
        {
          "output_type": "execute_result",
          "data": {
            "text/plain": [
              "     Pregnancies  Glucose  BloodPressure  SkinThickness  Insulin   BMI  \\\n",
              "0              6      148             72             35        0  33.6   \n",
              "1              1       85             66             29        0  26.6   \n",
              "2              8      183             64              0        0  23.3   \n",
              "3              1       89             66             23       94  28.1   \n",
              "4              0      137             40             35      168  43.1   \n",
              "..           ...      ...            ...            ...      ...   ...   \n",
              "665            1      112             80             45      132  34.8   \n",
              "666            4      145             82             18        0  32.5   \n",
              "667           10      111             70             27        0  27.5   \n",
              "668            6       98             58             33      190  34.0   \n",
              "669            9      154             78             30      100  30.9   \n",
              "\n",
              "     DiabetesPedigreeFunction  Age  Outcome  \n",
              "0                       0.627   50        1  \n",
              "1                       0.351   31        0  \n",
              "2                       0.672   32        1  \n",
              "3                       0.167   21        0  \n",
              "4                       2.288   33        1  \n",
              "..                        ...  ...      ...  \n",
              "665                     0.217   24        0  \n",
              "666                     0.235   70        1  \n",
              "667                     0.141   40        1  \n",
              "668                     0.430   43        0  \n",
              "669                     0.164   45        0  \n",
              "\n",
              "[670 rows x 9 columns]"
            ],
            "text/html": [
              "\n",
              "  <div id=\"df-d9541f35-010a-441b-a201-be86460e9b03\">\n",
              "    <div class=\"colab-df-container\">\n",
              "      <div>\n",
              "<style scoped>\n",
              "    .dataframe tbody tr th:only-of-type {\n",
              "        vertical-align: middle;\n",
              "    }\n",
              "\n",
              "    .dataframe tbody tr th {\n",
              "        vertical-align: top;\n",
              "    }\n",
              "\n",
              "    .dataframe thead th {\n",
              "        text-align: right;\n",
              "    }\n",
              "</style>\n",
              "<table border=\"1\" class=\"dataframe\">\n",
              "  <thead>\n",
              "    <tr style=\"text-align: right;\">\n",
              "      <th></th>\n",
              "      <th>Pregnancies</th>\n",
              "      <th>Glucose</th>\n",
              "      <th>BloodPressure</th>\n",
              "      <th>SkinThickness</th>\n",
              "      <th>Insulin</th>\n",
              "      <th>BMI</th>\n",
              "      <th>DiabetesPedigreeFunction</th>\n",
              "      <th>Age</th>\n",
              "      <th>Outcome</th>\n",
              "    </tr>\n",
              "  </thead>\n",
              "  <tbody>\n",
              "    <tr>\n",
              "      <th>0</th>\n",
              "      <td>6</td>\n",
              "      <td>148</td>\n",
              "      <td>72</td>\n",
              "      <td>35</td>\n",
              "      <td>0</td>\n",
              "      <td>33.6</td>\n",
              "      <td>0.627</td>\n",
              "      <td>50</td>\n",
              "      <td>1</td>\n",
              "    </tr>\n",
              "    <tr>\n",
              "      <th>1</th>\n",
              "      <td>1</td>\n",
              "      <td>85</td>\n",
              "      <td>66</td>\n",
              "      <td>29</td>\n",
              "      <td>0</td>\n",
              "      <td>26.6</td>\n",
              "      <td>0.351</td>\n",
              "      <td>31</td>\n",
              "      <td>0</td>\n",
              "    </tr>\n",
              "    <tr>\n",
              "      <th>2</th>\n",
              "      <td>8</td>\n",
              "      <td>183</td>\n",
              "      <td>64</td>\n",
              "      <td>0</td>\n",
              "      <td>0</td>\n",
              "      <td>23.3</td>\n",
              "      <td>0.672</td>\n",
              "      <td>32</td>\n",
              "      <td>1</td>\n",
              "    </tr>\n",
              "    <tr>\n",
              "      <th>3</th>\n",
              "      <td>1</td>\n",
              "      <td>89</td>\n",
              "      <td>66</td>\n",
              "      <td>23</td>\n",
              "      <td>94</td>\n",
              "      <td>28.1</td>\n",
              "      <td>0.167</td>\n",
              "      <td>21</td>\n",
              "      <td>0</td>\n",
              "    </tr>\n",
              "    <tr>\n",
              "      <th>4</th>\n",
              "      <td>0</td>\n",
              "      <td>137</td>\n",
              "      <td>40</td>\n",
              "      <td>35</td>\n",
              "      <td>168</td>\n",
              "      <td>43.1</td>\n",
              "      <td>2.288</td>\n",
              "      <td>33</td>\n",
              "      <td>1</td>\n",
              "    </tr>\n",
              "    <tr>\n",
              "      <th>...</th>\n",
              "      <td>...</td>\n",
              "      <td>...</td>\n",
              "      <td>...</td>\n",
              "      <td>...</td>\n",
              "      <td>...</td>\n",
              "      <td>...</td>\n",
              "      <td>...</td>\n",
              "      <td>...</td>\n",
              "      <td>...</td>\n",
              "    </tr>\n",
              "    <tr>\n",
              "      <th>665</th>\n",
              "      <td>1</td>\n",
              "      <td>112</td>\n",
              "      <td>80</td>\n",
              "      <td>45</td>\n",
              "      <td>132</td>\n",
              "      <td>34.8</td>\n",
              "      <td>0.217</td>\n",
              "      <td>24</td>\n",
              "      <td>0</td>\n",
              "    </tr>\n",
              "    <tr>\n",
              "      <th>666</th>\n",
              "      <td>4</td>\n",
              "      <td>145</td>\n",
              "      <td>82</td>\n",
              "      <td>18</td>\n",
              "      <td>0</td>\n",
              "      <td>32.5</td>\n",
              "      <td>0.235</td>\n",
              "      <td>70</td>\n",
              "      <td>1</td>\n",
              "    </tr>\n",
              "    <tr>\n",
              "      <th>667</th>\n",
              "      <td>10</td>\n",
              "      <td>111</td>\n",
              "      <td>70</td>\n",
              "      <td>27</td>\n",
              "      <td>0</td>\n",
              "      <td>27.5</td>\n",
              "      <td>0.141</td>\n",
              "      <td>40</td>\n",
              "      <td>1</td>\n",
              "    </tr>\n",
              "    <tr>\n",
              "      <th>668</th>\n",
              "      <td>6</td>\n",
              "      <td>98</td>\n",
              "      <td>58</td>\n",
              "      <td>33</td>\n",
              "      <td>190</td>\n",
              "      <td>34.0</td>\n",
              "      <td>0.430</td>\n",
              "      <td>43</td>\n",
              "      <td>0</td>\n",
              "    </tr>\n",
              "    <tr>\n",
              "      <th>669</th>\n",
              "      <td>9</td>\n",
              "      <td>154</td>\n",
              "      <td>78</td>\n",
              "      <td>30</td>\n",
              "      <td>100</td>\n",
              "      <td>30.9</td>\n",
              "      <td>0.164</td>\n",
              "      <td>45</td>\n",
              "      <td>0</td>\n",
              "    </tr>\n",
              "  </tbody>\n",
              "</table>\n",
              "<p>670 rows × 9 columns</p>\n",
              "</div>\n",
              "      <button class=\"colab-df-convert\" onclick=\"convertToInteractive('df-d9541f35-010a-441b-a201-be86460e9b03')\"\n",
              "              title=\"Convert this dataframe to an interactive table.\"\n",
              "              style=\"display:none;\">\n",
              "        \n",
              "  <svg xmlns=\"http://www.w3.org/2000/svg\" height=\"24px\"viewBox=\"0 0 24 24\"\n",
              "       width=\"24px\">\n",
              "    <path d=\"M0 0h24v24H0V0z\" fill=\"none\"/>\n",
              "    <path d=\"M18.56 5.44l.94 2.06.94-2.06 2.06-.94-2.06-.94-.94-2.06-.94 2.06-2.06.94zm-11 1L8.5 8.5l.94-2.06 2.06-.94-2.06-.94L8.5 2.5l-.94 2.06-2.06.94zm10 10l.94 2.06.94-2.06 2.06-.94-2.06-.94-.94-2.06-.94 2.06-2.06.94z\"/><path d=\"M17.41 7.96l-1.37-1.37c-.4-.4-.92-.59-1.43-.59-.52 0-1.04.2-1.43.59L10.3 9.45l-7.72 7.72c-.78.78-.78 2.05 0 2.83L4 21.41c.39.39.9.59 1.41.59.51 0 1.02-.2 1.41-.59l7.78-7.78 2.81-2.81c.8-.78.8-2.07 0-2.86zM5.41 20L4 18.59l7.72-7.72 1.47 1.35L5.41 20z\"/>\n",
              "  </svg>\n",
              "      </button>\n",
              "      \n",
              "  <style>\n",
              "    .colab-df-container {\n",
              "      display:flex;\n",
              "      flex-wrap:wrap;\n",
              "      gap: 12px;\n",
              "    }\n",
              "\n",
              "    .colab-df-convert {\n",
              "      background-color: #E8F0FE;\n",
              "      border: none;\n",
              "      border-radius: 50%;\n",
              "      cursor: pointer;\n",
              "      display: none;\n",
              "      fill: #1967D2;\n",
              "      height: 32px;\n",
              "      padding: 0 0 0 0;\n",
              "      width: 32px;\n",
              "    }\n",
              "\n",
              "    .colab-df-convert:hover {\n",
              "      background-color: #E2EBFA;\n",
              "      box-shadow: 0px 1px 2px rgba(60, 64, 67, 0.3), 0px 1px 3px 1px rgba(60, 64, 67, 0.15);\n",
              "      fill: #174EA6;\n",
              "    }\n",
              "\n",
              "    [theme=dark] .colab-df-convert {\n",
              "      background-color: #3B4455;\n",
              "      fill: #D2E3FC;\n",
              "    }\n",
              "\n",
              "    [theme=dark] .colab-df-convert:hover {\n",
              "      background-color: #434B5C;\n",
              "      box-shadow: 0px 1px 3px 1px rgba(0, 0, 0, 0.15);\n",
              "      filter: drop-shadow(0px 1px 2px rgba(0, 0, 0, 0.3));\n",
              "      fill: #FFFFFF;\n",
              "    }\n",
              "  </style>\n",
              "\n",
              "      <script>\n",
              "        const buttonEl =\n",
              "          document.querySelector('#df-d9541f35-010a-441b-a201-be86460e9b03 button.colab-df-convert');\n",
              "        buttonEl.style.display =\n",
              "          google.colab.kernel.accessAllowed ? 'block' : 'none';\n",
              "\n",
              "        async function convertToInteractive(key) {\n",
              "          const element = document.querySelector('#df-d9541f35-010a-441b-a201-be86460e9b03');\n",
              "          const dataTable =\n",
              "            await google.colab.kernel.invokeFunction('convertToInteractive',\n",
              "                                                     [key], {});\n",
              "          if (!dataTable) return;\n",
              "\n",
              "          const docLinkHtml = 'Like what you see? Visit the ' +\n",
              "            '<a target=\"_blank\" href=https://colab.research.google.com/notebooks/data_table.ipynb>data table notebook</a>'\n",
              "            + ' to learn more about interactive tables.';\n",
              "          element.innerHTML = '';\n",
              "          dataTable['output_type'] = 'display_data';\n",
              "          await google.colab.output.renderOutput(dataTable, element);\n",
              "          const docLink = document.createElement('div');\n",
              "          docLink.innerHTML = docLinkHtml;\n",
              "          element.appendChild(docLink);\n",
              "        }\n",
              "      </script>\n",
              "    </div>\n",
              "  </div>\n",
              "  "
            ]
          },
          "metadata": {},
          "execution_count": 7
        }
      ]
    },
    {
      "cell_type": "code",
      "source": [
        "sub_df['Outcome'].value_counts()"
      ],
      "metadata": {
        "id": "X4opcvcMSZCm",
        "outputId": "f0707e81-ef0c-4d84-cc6b-90b59a707957",
        "colab": {
          "base_uri": "https://localhost:8080/"
        }
      },
      "execution_count": 16,
      "outputs": [
        {
          "output_type": "execute_result",
          "data": {
            "text/plain": [
              "0    439\n",
              "1    231\n",
              "Name: Outcome, dtype: int64"
            ]
          },
          "metadata": {},
          "execution_count": 16
        }
      ]
    },
    {
      "cell_type": "code",
      "source": [
        "X_train, X_test, y_train, y_test = train_test_split(sub_df.drop(columns=['Outcome']), sub_df['Outcome'], test_size=0.2, random_state=2020, shuffle=False)"
      ],
      "metadata": {
        "id": "5ZbjAArPCHxw"
      },
      "execution_count": 8,
      "outputs": []
    },
    {
      "cell_type": "code",
      "source": [
        "# model = DecisionTreeClassifier(criterion='entropy', min_samples_leaf=20, max_leaf_nodes=30, random_state=2020)\n",
        "model = DecisionTreeClassifier(criterion='entropy', min_samples_leaf=10, max_leaf_nodes=10, random_state=2020)\n",
        "model.fit(X_train, y_train)"
      ],
      "metadata": {
        "colab": {
          "base_uri": "https://localhost:8080/"
        },
        "id": "-kmU_2zOCKVU",
        "outputId": "35386454-4537-4fbe-fdc6-ca02e0ae7821"
      },
      "execution_count": 9,
      "outputs": [
        {
          "output_type": "execute_result",
          "data": {
            "text/plain": [
              "DecisionTreeClassifier(criterion='entropy', max_leaf_nodes=10,\n",
              "                       min_samples_leaf=10, random_state=2020)"
            ]
          },
          "metadata": {},
          "execution_count": 9
        }
      ]
    },
    {
      "cell_type": "code",
      "source": [
        "model.get_depth()"
      ],
      "metadata": {
        "colab": {
          "base_uri": "https://localhost:8080/"
        },
        "id": "U6I_pY3KCLbV",
        "outputId": "4751f064-599c-4ce1-acc9-3c4120d67689"
      },
      "execution_count": 10,
      "outputs": [
        {
          "output_type": "execute_result",
          "data": {
            "text/plain": [
              "6"
            ]
          },
          "metadata": {},
          "execution_count": 10
        }
      ]
    },
    {
      "cell_type": "code",
      "source": [
        "y_pred = model.predict(X_test)"
      ],
      "metadata": {
        "id": "1gv_vhw7CNtI"
      },
      "execution_count": 11,
      "outputs": []
    },
    {
      "cell_type": "code",
      "source": [
        "accuracy_score(y_test, y_pred)"
      ],
      "metadata": {
        "colab": {
          "base_uri": "https://localhost:8080/"
        },
        "id": "7LgtD4EVCQ4K",
        "outputId": "3dfe2765-ff6d-4509-b3d0-b42b9410ef5e"
      },
      "execution_count": 12,
      "outputs": [
        {
          "output_type": "execute_result",
          "data": {
            "text/plain": [
              "0.8208955223880597"
            ]
          },
          "metadata": {},
          "execution_count": 12
        }
      ]
    },
    {
      "cell_type": "code",
      "source": [
        "f1_score(y_test, y_pred, average='macro')"
      ],
      "metadata": {
        "colab": {
          "base_uri": "https://localhost:8080/"
        },
        "id": "95N-2ea1CRMf",
        "outputId": "f136043c-6a6b-4351-d2bb-29ce919599ea"
      },
      "execution_count": 13,
      "outputs": [
        {
          "output_type": "execute_result",
          "data": {
            "text/plain": [
              "0.775982167734745"
            ]
          },
          "metadata": {},
          "execution_count": 13
        }
      ]
    },
    {
      "cell_type": "code",
      "source": [
        "model.predict(df.iloc[[712, 749, 703, 740]].drop(columns=['Outcome']))"
      ],
      "metadata": {
        "colab": {
          "base_uri": "https://localhost:8080/"
        },
        "id": "TtlcoYMzCSli",
        "outputId": "bfb28263-7d82-4a0a-8a24-481e38edc7ac"
      },
      "execution_count": 14,
      "outputs": [
        {
          "output_type": "execute_result",
          "data": {
            "text/plain": [
              "array([0, 1, 0, 1])"
            ]
          },
          "metadata": {},
          "execution_count": 14
        }
      ]
    },
    {
      "cell_type": "code",
      "source": [
        "columns = list(df.drop(columns=['Outcome']).columns)\n",
        "export_graphviz(model, out_file='tree.dot', \n",
        "                feature_names=columns,\n",
        "                class_names=['0', '1'],\n",
        "                rounded = True, proportion = False, \n",
        "                precision = 2, filled = True, label='all')\n",
        "\n",
        "with open('tree.dot') as f:\n",
        "    dot_graph = f.read()\n",
        "\n",
        "graphviz.Source(dot_graph)"
      ],
      "metadata": {
        "colab": {
          "base_uri": "https://localhost:8080/",
          "height": 1000
        },
        "id": "vwIAAk2PCTm7",
        "outputId": "51a80d0b-fd97-4979-9970-059d0b67acae"
      },
      "execution_count": 15,
      "outputs": [
        {
          "output_type": "execute_result",
          "data": {
            "text/plain": [
              "<graphviz.files.Source at 0x7fb9fa10cf40>"
            ],
            "image/svg+xml": "<?xml version=\"1.0\" encoding=\"UTF-8\" standalone=\"no\"?>\n<!DOCTYPE svg PUBLIC \"-//W3C//DTD SVG 1.1//EN\"\n \"http://www.w3.org/Graphics/SVG/1.1/DTD/svg11.dtd\">\n<!-- Generated by graphviz version 2.40.1 (20161225.0304)\n -->\n<!-- Title: Tree Pages: 1 -->\n<svg width=\"791pt\" height=\"790pt\"\n viewBox=\"0.00 0.00 791.00 790.00\" xmlns=\"http://www.w3.org/2000/svg\" xmlns:xlink=\"http://www.w3.org/1999/xlink\">\n<g id=\"graph0\" class=\"graph\" transform=\"scale(1 1) rotate(0) translate(4 786)\">\n<title>Tree</title>\n<polygon fill=\"#ffffff\" stroke=\"transparent\" points=\"-4,4 -4,-786 787,-786 787,4 -4,4\"/>\n<!-- 0 -->\n<g id=\"node1\" class=\"node\">\n<title>0</title>\n<path fill=\"#f3c6a5\" stroke=\"#000000\" d=\"M311,-782C311,-782 203,-782 203,-782 197,-782 191,-776 191,-770 191,-770 191,-711 191,-711 191,-705 197,-699 203,-699 203,-699 311,-699 311,-699 317,-699 323,-705 323,-711 323,-711 323,-770 323,-770 323,-776 317,-782 311,-782\"/>\n<text text-anchor=\"middle\" x=\"257\" y=\"-766.8\" font-family=\"Helvetica,sans-Serif\" font-size=\"14.00\" fill=\"#000000\">Glucose &lt;= 154.5</text>\n<text text-anchor=\"middle\" x=\"257\" y=\"-751.8\" font-family=\"Helvetica,sans-Serif\" font-size=\"14.00\" fill=\"#000000\">entropy = 0.94</text>\n<text text-anchor=\"middle\" x=\"257\" y=\"-736.8\" font-family=\"Helvetica,sans-Serif\" font-size=\"14.00\" fill=\"#000000\">samples = 536</text>\n<text text-anchor=\"middle\" x=\"257\" y=\"-721.8\" font-family=\"Helvetica,sans-Serif\" font-size=\"14.00\" fill=\"#000000\">value = [347, 189]</text>\n<text text-anchor=\"middle\" x=\"257\" y=\"-706.8\" font-family=\"Helvetica,sans-Serif\" font-size=\"14.00\" fill=\"#000000\">class = 0</text>\n</g>\n<!-- 1 -->\n<g id=\"node2\" class=\"node\">\n<title>1</title>\n<path fill=\"#efaf82\" stroke=\"#000000\" d=\"M240,-663C240,-663 132,-663 132,-663 126,-663 120,-657 120,-651 120,-651 120,-592 120,-592 120,-586 126,-580 132,-580 132,-580 240,-580 240,-580 246,-580 252,-586 252,-592 252,-592 252,-651 252,-651 252,-657 246,-663 240,-663\"/>\n<text text-anchor=\"middle\" x=\"186\" y=\"-647.8\" font-family=\"Helvetica,sans-Serif\" font-size=\"14.00\" fill=\"#000000\">BMI &lt;= 26.35</text>\n<text text-anchor=\"middle\" x=\"186\" y=\"-632.8\" font-family=\"Helvetica,sans-Serif\" font-size=\"14.00\" fill=\"#000000\">entropy = 0.84</text>\n<text text-anchor=\"middle\" x=\"186\" y=\"-617.8\" font-family=\"Helvetica,sans-Serif\" font-size=\"14.00\" fill=\"#000000\">samples = 453</text>\n<text text-anchor=\"middle\" x=\"186\" y=\"-602.8\" font-family=\"Helvetica,sans-Serif\" font-size=\"14.00\" fill=\"#000000\">value = [331, 122]</text>\n<text text-anchor=\"middle\" x=\"186\" y=\"-587.8\" font-family=\"Helvetica,sans-Serif\" font-size=\"14.00\" fill=\"#000000\">class = 0</text>\n</g>\n<!-- 0&#45;&gt;1 -->\n<g id=\"edge1\" class=\"edge\">\n<title>0&#45;&gt;1</title>\n<path fill=\"none\" stroke=\"#000000\" d=\"M232.1676,-698.8796C227.0091,-690.2335 221.5192,-681.0322 216.1924,-672.1042\"/>\n<polygon fill=\"#000000\" stroke=\"#000000\" points=\"219.0678,-670.0924 210.9383,-663.2981 213.0564,-673.679 219.0678,-670.0924\"/>\n<text text-anchor=\"middle\" x=\"204.8149\" y=\"-683.8366\" font-family=\"Helvetica,sans-Serif\" font-size=\"14.00\" fill=\"#000000\">True</text>\n</g>\n<!-- 2 -->\n<g id=\"node19\" class=\"node\">\n<title>2</title>\n<path fill=\"#68b4eb\" stroke=\"#000000\" d=\"M374,-655.5C374,-655.5 282,-655.5 282,-655.5 276,-655.5 270,-649.5 270,-643.5 270,-643.5 270,-599.5 270,-599.5 270,-593.5 276,-587.5 282,-587.5 282,-587.5 374,-587.5 374,-587.5 380,-587.5 386,-593.5 386,-599.5 386,-599.5 386,-643.5 386,-643.5 386,-649.5 380,-655.5 374,-655.5\"/>\n<text text-anchor=\"middle\" x=\"328\" y=\"-640.3\" font-family=\"Helvetica,sans-Serif\" font-size=\"14.00\" fill=\"#000000\">entropy = 0.71</text>\n<text text-anchor=\"middle\" x=\"328\" y=\"-625.3\" font-family=\"Helvetica,sans-Serif\" font-size=\"14.00\" fill=\"#000000\">samples = 83</text>\n<text text-anchor=\"middle\" x=\"328\" y=\"-610.3\" font-family=\"Helvetica,sans-Serif\" font-size=\"14.00\" fill=\"#000000\">value = [16, 67]</text>\n<text text-anchor=\"middle\" x=\"328\" y=\"-595.3\" font-family=\"Helvetica,sans-Serif\" font-size=\"14.00\" fill=\"#000000\">class = 1</text>\n</g>\n<!-- 0&#45;&gt;2 -->\n<g id=\"edge18\" class=\"edge\">\n<title>0&#45;&gt;2</title>\n<path fill=\"none\" stroke=\"#000000\" d=\"M281.8324,-698.8796C288.4587,-687.7735 295.6316,-675.7513 302.3033,-664.5691\"/>\n<polygon fill=\"#000000\" stroke=\"#000000\" points=\"305.4083,-666.1959 307.5264,-655.8149 299.3969,-662.6093 305.4083,-666.1959\"/>\n<text text-anchor=\"middle\" x=\"313.6498\" y=\"-676.3534\" font-family=\"Helvetica,sans-Serif\" font-size=\"14.00\" fill=\"#000000\">False</text>\n</g>\n<!-- 3 -->\n<g id=\"node3\" class=\"node\">\n<title>3</title>\n<path fill=\"#e68640\" stroke=\"#000000\" d=\"M161,-536.5C161,-536.5 69,-536.5 69,-536.5 63,-536.5 57,-530.5 57,-524.5 57,-524.5 57,-480.5 57,-480.5 57,-474.5 63,-468.5 69,-468.5 69,-468.5 161,-468.5 161,-468.5 167,-468.5 173,-474.5 173,-480.5 173,-480.5 173,-524.5 173,-524.5 173,-530.5 167,-536.5 161,-536.5\"/>\n<text text-anchor=\"middle\" x=\"115\" y=\"-521.3\" font-family=\"Helvetica,sans-Serif\" font-size=\"14.00\" fill=\"#000000\">entropy = 0.22</text>\n<text text-anchor=\"middle\" x=\"115\" y=\"-506.3\" font-family=\"Helvetica,sans-Serif\" font-size=\"14.00\" fill=\"#000000\">samples = 115</text>\n<text text-anchor=\"middle\" x=\"115\" y=\"-491.3\" font-family=\"Helvetica,sans-Serif\" font-size=\"14.00\" fill=\"#000000\">value = [111, 4]</text>\n<text text-anchor=\"middle\" x=\"115\" y=\"-476.3\" font-family=\"Helvetica,sans-Serif\" font-size=\"14.00\" fill=\"#000000\">class = 0</text>\n</g>\n<!-- 1&#45;&gt;3 -->\n<g id=\"edge2\" class=\"edge\">\n<title>1&#45;&gt;3</title>\n<path fill=\"none\" stroke=\"#000000\" d=\"M161.1676,-579.8796C154.5413,-568.7735 147.3684,-556.7513 140.6967,-545.5691\"/>\n<polygon fill=\"#000000\" stroke=\"#000000\" points=\"143.6031,-543.6093 135.4736,-536.8149 137.5917,-547.1959 143.6031,-543.6093\"/>\n</g>\n<!-- 4 -->\n<g id=\"node4\" class=\"node\">\n<title>4</title>\n<path fill=\"#f3c5a3\" stroke=\"#000000\" d=\"M311,-544C311,-544 203,-544 203,-544 197,-544 191,-538 191,-532 191,-532 191,-473 191,-473 191,-467 197,-461 203,-461 203,-461 311,-461 311,-461 317,-461 323,-467 323,-473 323,-473 323,-532 323,-532 323,-538 317,-544 311,-544\"/>\n<text text-anchor=\"middle\" x=\"257\" y=\"-528.8\" font-family=\"Helvetica,sans-Serif\" font-size=\"14.00\" fill=\"#000000\">Glucose &lt;= 99.5</text>\n<text text-anchor=\"middle\" x=\"257\" y=\"-513.8\" font-family=\"Helvetica,sans-Serif\" font-size=\"14.00\" fill=\"#000000\">entropy = 0.93</text>\n<text text-anchor=\"middle\" x=\"257\" y=\"-498.8\" font-family=\"Helvetica,sans-Serif\" font-size=\"14.00\" fill=\"#000000\">samples = 338</text>\n<text text-anchor=\"middle\" x=\"257\" y=\"-483.8\" font-family=\"Helvetica,sans-Serif\" font-size=\"14.00\" fill=\"#000000\">value = [220, 118]</text>\n<text text-anchor=\"middle\" x=\"257\" y=\"-468.8\" font-family=\"Helvetica,sans-Serif\" font-size=\"14.00\" fill=\"#000000\">class = 0</text>\n</g>\n<!-- 1&#45;&gt;4 -->\n<g id=\"edge3\" class=\"edge\">\n<title>1&#45;&gt;4</title>\n<path fill=\"none\" stroke=\"#000000\" d=\"M210.8324,-579.8796C215.9909,-571.2335 221.4808,-562.0322 226.8076,-553.1042\"/>\n<polygon fill=\"#000000\" stroke=\"#000000\" points=\"229.9436,-554.679 232.0617,-544.2981 223.9322,-551.0924 229.9436,-554.679\"/>\n</g>\n<!-- 5 -->\n<g id=\"node5\" class=\"node\">\n<title>5</title>\n<path fill=\"#e89253\" stroke=\"#000000\" d=\"M232,-425C232,-425 140,-425 140,-425 134,-425 128,-419 128,-413 128,-413 128,-354 128,-354 128,-348 134,-342 140,-342 140,-342 232,-342 232,-342 238,-342 244,-348 244,-354 244,-354 244,-413 244,-413 244,-419 238,-425 232,-425\"/>\n<text text-anchor=\"middle\" x=\"186\" y=\"-409.8\" font-family=\"Helvetica,sans-Serif\" font-size=\"14.00\" fill=\"#000000\">Age &lt;= 25.5</text>\n<text text-anchor=\"middle\" x=\"186\" y=\"-394.8\" font-family=\"Helvetica,sans-Serif\" font-size=\"14.00\" fill=\"#000000\">entropy = 0.52</text>\n<text text-anchor=\"middle\" x=\"186\" y=\"-379.8\" font-family=\"Helvetica,sans-Serif\" font-size=\"14.00\" fill=\"#000000\">samples = 94</text>\n<text text-anchor=\"middle\" x=\"186\" y=\"-364.8\" font-family=\"Helvetica,sans-Serif\" font-size=\"14.00\" fill=\"#000000\">value = [83, 11]</text>\n<text text-anchor=\"middle\" x=\"186\" y=\"-349.8\" font-family=\"Helvetica,sans-Serif\" font-size=\"14.00\" fill=\"#000000\">class = 0</text>\n</g>\n<!-- 4&#45;&gt;5 -->\n<g id=\"edge4\" class=\"edge\">\n<title>4&#45;&gt;5</title>\n<path fill=\"none\" stroke=\"#000000\" d=\"M232.1676,-460.8796C227.0091,-452.2335 221.5192,-443.0322 216.1924,-434.1042\"/>\n<polygon fill=\"#000000\" stroke=\"#000000\" points=\"219.0678,-432.0924 210.9383,-425.2981 213.0564,-435.679 219.0678,-432.0924\"/>\n</g>\n<!-- 6 -->\n<g id=\"node8\" class=\"node\">\n<title>6</title>\n<path fill=\"#f9e3d4\" stroke=\"#000000\" d=\"M382,-425C382,-425 274,-425 274,-425 268,-425 262,-419 262,-413 262,-413 262,-354 262,-354 262,-348 268,-342 274,-342 274,-342 382,-342 382,-342 388,-342 394,-348 394,-354 394,-354 394,-413 394,-413 394,-419 388,-425 382,-425\"/>\n<text text-anchor=\"middle\" x=\"328\" y=\"-409.8\" font-family=\"Helvetica,sans-Serif\" font-size=\"14.00\" fill=\"#000000\">Age &lt;= 28.5</text>\n<text text-anchor=\"middle\" x=\"328\" y=\"-394.8\" font-family=\"Helvetica,sans-Serif\" font-size=\"14.00\" fill=\"#000000\">entropy = 0.99</text>\n<text text-anchor=\"middle\" x=\"328\" y=\"-379.8\" font-family=\"Helvetica,sans-Serif\" font-size=\"14.00\" fill=\"#000000\">samples = 244</text>\n<text text-anchor=\"middle\" x=\"328\" y=\"-364.8\" font-family=\"Helvetica,sans-Serif\" font-size=\"14.00\" fill=\"#000000\">value = [137, 107]</text>\n<text text-anchor=\"middle\" x=\"328\" y=\"-349.8\" font-family=\"Helvetica,sans-Serif\" font-size=\"14.00\" fill=\"#000000\">class = 0</text>\n</g>\n<!-- 4&#45;&gt;6 -->\n<g id=\"edge7\" class=\"edge\">\n<title>4&#45;&gt;6</title>\n<path fill=\"none\" stroke=\"#000000\" d=\"M281.8324,-460.8796C286.9909,-452.2335 292.4808,-443.0322 297.8076,-434.1042\"/>\n<polygon fill=\"#000000\" stroke=\"#000000\" points=\"300.9436,-435.679 303.0617,-425.2981 294.9322,-432.0924 300.9436,-435.679\"/>\n</g>\n<!-- 9 -->\n<g id=\"node6\" class=\"node\">\n<title>9</title>\n<path fill=\"#e6843d\" stroke=\"#000000\" d=\"M98,-298.5C98,-298.5 12,-298.5 12,-298.5 6,-298.5 0,-292.5 0,-286.5 0,-286.5 0,-242.5 0,-242.5 0,-236.5 6,-230.5 12,-230.5 12,-230.5 98,-230.5 98,-230.5 104,-230.5 110,-236.5 110,-242.5 110,-242.5 110,-286.5 110,-286.5 110,-292.5 104,-298.5 98,-298.5\"/>\n<text text-anchor=\"middle\" x=\"55\" y=\"-283.3\" font-family=\"Helvetica,sans-Serif\" font-size=\"14.00\" fill=\"#000000\">entropy = 0.15</text>\n<text text-anchor=\"middle\" x=\"55\" y=\"-268.3\" font-family=\"Helvetica,sans-Serif\" font-size=\"14.00\" fill=\"#000000\">samples = 48</text>\n<text text-anchor=\"middle\" x=\"55\" y=\"-253.3\" font-family=\"Helvetica,sans-Serif\" font-size=\"14.00\" fill=\"#000000\">value = [47, 1]</text>\n<text text-anchor=\"middle\" x=\"55\" y=\"-238.3\" font-family=\"Helvetica,sans-Serif\" font-size=\"14.00\" fill=\"#000000\">class = 0</text>\n</g>\n<!-- 5&#45;&gt;9 -->\n<g id=\"edge5\" class=\"edge\">\n<title>5&#45;&gt;9</title>\n<path fill=\"none\" stroke=\"#000000\" d=\"M140.1826,-341.8796C127.2303,-330.1138 113.146,-317.3197 100.2286,-305.5855\"/>\n<polygon fill=\"#000000\" stroke=\"#000000\" points=\"102.5306,-302.9482 92.7753,-298.8149 97.8239,-308.1296 102.5306,-302.9482\"/>\n</g>\n<!-- 10 -->\n<g id=\"node7\" class=\"node\">\n<title>10</title>\n<path fill=\"#eca470\" stroke=\"#000000\" d=\"M232,-298.5C232,-298.5 140,-298.5 140,-298.5 134,-298.5 128,-292.5 128,-286.5 128,-286.5 128,-242.5 128,-242.5 128,-236.5 134,-230.5 140,-230.5 140,-230.5 232,-230.5 232,-230.5 238,-230.5 244,-236.5 244,-242.5 244,-242.5 244,-286.5 244,-286.5 244,-292.5 238,-298.5 232,-298.5\"/>\n<text text-anchor=\"middle\" x=\"186\" y=\"-283.3\" font-family=\"Helvetica,sans-Serif\" font-size=\"14.00\" fill=\"#000000\">entropy = 0.76</text>\n<text text-anchor=\"middle\" x=\"186\" y=\"-268.3\" font-family=\"Helvetica,sans-Serif\" font-size=\"14.00\" fill=\"#000000\">samples = 46</text>\n<text text-anchor=\"middle\" x=\"186\" y=\"-253.3\" font-family=\"Helvetica,sans-Serif\" font-size=\"14.00\" fill=\"#000000\">value = [36, 10]</text>\n<text text-anchor=\"middle\" x=\"186\" y=\"-238.3\" font-family=\"Helvetica,sans-Serif\" font-size=\"14.00\" fill=\"#000000\">class = 0</text>\n</g>\n<!-- 5&#45;&gt;10 -->\n<g id=\"edge6\" class=\"edge\">\n<title>5&#45;&gt;10</title>\n<path fill=\"none\" stroke=\"#000000\" d=\"M186,-341.8796C186,-331.2134 186,-319.7021 186,-308.9015\"/>\n<polygon fill=\"#000000\" stroke=\"#000000\" points=\"189.5001,-308.8149 186,-298.8149 182.5001,-308.815 189.5001,-308.8149\"/>\n</g>\n<!-- 7 -->\n<g id=\"node9\" class=\"node\">\n<title>7</title>\n<path fill=\"#f0b58b\" stroke=\"#000000\" d=\"M381.5,-306C381.5,-306 274.5,-306 274.5,-306 268.5,-306 262.5,-300 262.5,-294 262.5,-294 262.5,-235 262.5,-235 262.5,-229 268.5,-223 274.5,-223 274.5,-223 381.5,-223 381.5,-223 387.5,-223 393.5,-229 393.5,-235 393.5,-235 393.5,-294 393.5,-294 393.5,-300 387.5,-306 381.5,-306\"/>\n<text text-anchor=\"middle\" x=\"328\" y=\"-290.8\" font-family=\"Helvetica,sans-Serif\" font-size=\"14.00\" fill=\"#000000\">Glucose &lt;= 127.5</text>\n<text text-anchor=\"middle\" x=\"328\" y=\"-275.8\" font-family=\"Helvetica,sans-Serif\" font-size=\"14.00\" fill=\"#000000\">entropy = 0.87</text>\n<text text-anchor=\"middle\" x=\"328\" y=\"-260.8\" font-family=\"Helvetica,sans-Serif\" font-size=\"14.00\" fill=\"#000000\">samples = 99</text>\n<text text-anchor=\"middle\" x=\"328\" y=\"-245.8\" font-family=\"Helvetica,sans-Serif\" font-size=\"14.00\" fill=\"#000000\">value = [70, 29]</text>\n<text text-anchor=\"middle\" x=\"328\" y=\"-230.8\" font-family=\"Helvetica,sans-Serif\" font-size=\"14.00\" fill=\"#000000\">class = 0</text>\n</g>\n<!-- 6&#45;&gt;7 -->\n<g id=\"edge8\" class=\"edge\">\n<title>6&#45;&gt;7</title>\n<path fill=\"none\" stroke=\"#000000\" d=\"M328,-341.8796C328,-333.6838 328,-324.9891 328,-316.5013\"/>\n<polygon fill=\"#000000\" stroke=\"#000000\" points=\"331.5001,-316.298 328,-306.2981 324.5001,-316.2981 331.5001,-316.298\"/>\n</g>\n<!-- 8 -->\n<g id=\"node14\" class=\"node\">\n<title>8</title>\n<path fill=\"#e3f1fb\" stroke=\"#000000\" d=\"M642,-306C642,-306 424,-306 424,-306 418,-306 412,-300 412,-294 412,-294 412,-235 412,-235 412,-229 418,-223 424,-223 424,-223 642,-223 642,-223 648,-223 654,-229 654,-235 654,-235 654,-294 654,-294 654,-300 648,-306 642,-306\"/>\n<text text-anchor=\"middle\" x=\"533\" y=\"-290.8\" font-family=\"Helvetica,sans-Serif\" font-size=\"14.00\" fill=\"#000000\">DiabetesPedigreeFunction &lt;= 0.51</text>\n<text text-anchor=\"middle\" x=\"533\" y=\"-275.8\" font-family=\"Helvetica,sans-Serif\" font-size=\"14.00\" fill=\"#000000\">entropy = 1.0</text>\n<text text-anchor=\"middle\" x=\"533\" y=\"-260.8\" font-family=\"Helvetica,sans-Serif\" font-size=\"14.00\" fill=\"#000000\">samples = 145</text>\n<text text-anchor=\"middle\" x=\"533\" y=\"-245.8\" font-family=\"Helvetica,sans-Serif\" font-size=\"14.00\" fill=\"#000000\">value = [67, 78]</text>\n<text text-anchor=\"middle\" x=\"533\" y=\"-230.8\" font-family=\"Helvetica,sans-Serif\" font-size=\"14.00\" fill=\"#000000\">class = 1</text>\n</g>\n<!-- 6&#45;&gt;8 -->\n<g id=\"edge13\" class=\"edge\">\n<title>6&#45;&gt;8</title>\n<path fill=\"none\" stroke=\"#000000\" d=\"M394.2745,-345.0284C412.8387,-334.2522 433.2222,-322.4198 452.5138,-311.2212\"/>\n<polygon fill=\"#000000\" stroke=\"#000000\" points=\"454.3989,-314.174 461.2903,-306.1266 450.8846,-308.12 454.3989,-314.174\"/>\n</g>\n<!-- 15 -->\n<g id=\"node10\" class=\"node\">\n<title>15</title>\n<path fill=\"#eb9d65\" stroke=\"#000000\" d=\"M258,-187C258,-187 166,-187 166,-187 160,-187 154,-181 154,-175 154,-175 154,-116 154,-116 154,-110 160,-104 166,-104 166,-104 258,-104 258,-104 264,-104 270,-110 270,-116 270,-116 270,-175 270,-175 270,-181 264,-187 258,-187\"/>\n<text text-anchor=\"middle\" x=\"212\" y=\"-171.8\" font-family=\"Helvetica,sans-Serif\" font-size=\"14.00\" fill=\"#000000\">BMI &lt;= 31.3</text>\n<text text-anchor=\"middle\" x=\"212\" y=\"-156.8\" font-family=\"Helvetica,sans-Serif\" font-size=\"14.00\" fill=\"#000000\">entropy = 0.69</text>\n<text text-anchor=\"middle\" x=\"212\" y=\"-141.8\" font-family=\"Helvetica,sans-Serif\" font-size=\"14.00\" fill=\"#000000\">samples = 60</text>\n<text text-anchor=\"middle\" x=\"212\" y=\"-126.8\" font-family=\"Helvetica,sans-Serif\" font-size=\"14.00\" fill=\"#000000\">value = [49, 11]</text>\n<text text-anchor=\"middle\" x=\"212\" y=\"-111.8\" font-family=\"Helvetica,sans-Serif\" font-size=\"14.00\" fill=\"#000000\">class = 0</text>\n</g>\n<!-- 7&#45;&gt;15 -->\n<g id=\"edge9\" class=\"edge\">\n<title>7&#45;&gt;15</title>\n<path fill=\"none\" stroke=\"#000000\" d=\"M287.4288,-222.8796C278.5618,-213.7832 269.0956,-204.0722 259.9709,-194.7116\"/>\n<polygon fill=\"#000000\" stroke=\"#000000\" points=\"262.2309,-192.0158 252.7443,-187.2981 257.2183,-196.9019 262.2309,-192.0158\"/>\n</g>\n<!-- 16 -->\n<g id=\"node13\" class=\"node\">\n<title>16</title>\n<path fill=\"#fbede3\" stroke=\"#000000\" d=\"M392,-179.5C392,-179.5 300,-179.5 300,-179.5 294,-179.5 288,-173.5 288,-167.5 288,-167.5 288,-123.5 288,-123.5 288,-117.5 294,-111.5 300,-111.5 300,-111.5 392,-111.5 392,-111.5 398,-111.5 404,-117.5 404,-123.5 404,-123.5 404,-167.5 404,-167.5 404,-173.5 398,-179.5 392,-179.5\"/>\n<text text-anchor=\"middle\" x=\"346\" y=\"-164.3\" font-family=\"Helvetica,sans-Serif\" font-size=\"14.00\" fill=\"#000000\">entropy = 1.0</text>\n<text text-anchor=\"middle\" x=\"346\" y=\"-149.3\" font-family=\"Helvetica,sans-Serif\" font-size=\"14.00\" fill=\"#000000\">samples = 39</text>\n<text text-anchor=\"middle\" x=\"346\" y=\"-134.3\" font-family=\"Helvetica,sans-Serif\" font-size=\"14.00\" fill=\"#000000\">value = [21, 18]</text>\n<text text-anchor=\"middle\" x=\"346\" y=\"-119.3\" font-family=\"Helvetica,sans-Serif\" font-size=\"14.00\" fill=\"#000000\">class = 0</text>\n</g>\n<!-- 7&#45;&gt;16 -->\n<g id=\"edge12\" class=\"edge\">\n<title>7&#45;&gt;16</title>\n<path fill=\"none\" stroke=\"#000000\" d=\"M334.2955,-222.8796C335.9089,-212.2134 337.6501,-200.7021 339.2838,-189.9015\"/>\n<polygon fill=\"#000000\" stroke=\"#000000\" points=\"342.7745,-190.226 340.8095,-179.8149 335.8532,-189.179 342.7745,-190.226\"/>\n</g>\n<!-- 17 -->\n<g id=\"node11\" class=\"node\">\n<title>17</title>\n<path fill=\"#e58139\" stroke=\"#000000\" d=\"M188.5,-68C188.5,-68 105.5,-68 105.5,-68 99.5,-68 93.5,-62 93.5,-56 93.5,-56 93.5,-12 93.5,-12 93.5,-6 99.5,0 105.5,0 105.5,0 188.5,0 188.5,0 194.5,0 200.5,-6 200.5,-12 200.5,-12 200.5,-56 200.5,-56 200.5,-62 194.5,-68 188.5,-68\"/>\n<text text-anchor=\"middle\" x=\"147\" y=\"-52.8\" font-family=\"Helvetica,sans-Serif\" font-size=\"14.00\" fill=\"#000000\">entropy = 0.0</text>\n<text text-anchor=\"middle\" x=\"147\" y=\"-37.8\" font-family=\"Helvetica,sans-Serif\" font-size=\"14.00\" fill=\"#000000\">samples = 17</text>\n<text text-anchor=\"middle\" x=\"147\" y=\"-22.8\" font-family=\"Helvetica,sans-Serif\" font-size=\"14.00\" fill=\"#000000\">value = [17, 0]</text>\n<text text-anchor=\"middle\" x=\"147\" y=\"-7.8\" font-family=\"Helvetica,sans-Serif\" font-size=\"14.00\" fill=\"#000000\">class = 0</text>\n</g>\n<!-- 15&#45;&gt;17 -->\n<g id=\"edge10\" class=\"edge\">\n<title>15&#45;&gt;17</title>\n<path fill=\"none\" stroke=\"#000000\" d=\"M187.7964,-103.9815C182.6529,-95.1585 177.2123,-85.8258 172.0384,-76.9506\"/>\n<polygon fill=\"#000000\" stroke=\"#000000\" points=\"175.0344,-75.1402 166.9743,-68.2637 168.987,-78.6656 175.0344,-75.1402\"/>\n</g>\n<!-- 18 -->\n<g id=\"node12\" class=\"node\">\n<title>18</title>\n<path fill=\"#eeac7d\" stroke=\"#000000\" d=\"M323,-68C323,-68 231,-68 231,-68 225,-68 219,-62 219,-56 219,-56 219,-12 219,-12 219,-6 225,0 231,0 231,0 323,0 323,0 329,0 335,-6 335,-12 335,-12 335,-56 335,-56 335,-62 329,-68 323,-68\"/>\n<text text-anchor=\"middle\" x=\"277\" y=\"-52.8\" font-family=\"Helvetica,sans-Serif\" font-size=\"14.00\" fill=\"#000000\">entropy = 0.82</text>\n<text text-anchor=\"middle\" x=\"277\" y=\"-37.8\" font-family=\"Helvetica,sans-Serif\" font-size=\"14.00\" fill=\"#000000\">samples = 43</text>\n<text text-anchor=\"middle\" x=\"277\" y=\"-22.8\" font-family=\"Helvetica,sans-Serif\" font-size=\"14.00\" fill=\"#000000\">value = [32, 11]</text>\n<text text-anchor=\"middle\" x=\"277\" y=\"-7.8\" font-family=\"Helvetica,sans-Serif\" font-size=\"14.00\" fill=\"#000000\">class = 0</text>\n</g>\n<!-- 15&#45;&gt;18 -->\n<g id=\"edge11\" class=\"edge\">\n<title>15&#45;&gt;18</title>\n<path fill=\"none\" stroke=\"#000000\" d=\"M236.2036,-103.9815C241.3471,-95.1585 246.7877,-85.8258 251.9616,-76.9506\"/>\n<polygon fill=\"#000000\" stroke=\"#000000\" points=\"255.013,-78.6656 257.0257,-68.2637 248.9656,-75.1402 255.013,-78.6656\"/>\n</g>\n<!-- 11 -->\n<g id=\"node15\" class=\"node\">\n<title>11</title>\n<path fill=\"#f9e2d2\" stroke=\"#000000\" d=\"M561,-179.5C561,-179.5 469,-179.5 469,-179.5 463,-179.5 457,-173.5 457,-167.5 457,-167.5 457,-123.5 457,-123.5 457,-117.5 463,-111.5 469,-111.5 469,-111.5 561,-111.5 561,-111.5 567,-111.5 573,-117.5 573,-123.5 573,-123.5 573,-167.5 573,-167.5 573,-173.5 567,-179.5 561,-179.5\"/>\n<text text-anchor=\"middle\" x=\"515\" y=\"-164.3\" font-family=\"Helvetica,sans-Serif\" font-size=\"14.00\" fill=\"#000000\">entropy = 0.99</text>\n<text text-anchor=\"middle\" x=\"515\" y=\"-149.3\" font-family=\"Helvetica,sans-Serif\" font-size=\"14.00\" fill=\"#000000\">samples = 85</text>\n<text text-anchor=\"middle\" x=\"515\" y=\"-134.3\" font-family=\"Helvetica,sans-Serif\" font-size=\"14.00\" fill=\"#000000\">value = [48, 37]</text>\n<text text-anchor=\"middle\" x=\"515\" y=\"-119.3\" font-family=\"Helvetica,sans-Serif\" font-size=\"14.00\" fill=\"#000000\">class = 0</text>\n</g>\n<!-- 8&#45;&gt;11 -->\n<g id=\"edge14\" class=\"edge\">\n<title>8&#45;&gt;11</title>\n<path fill=\"none\" stroke=\"#000000\" d=\"M526.7045,-222.8796C525.0911,-212.2134 523.3499,-200.7021 521.7162,-189.9015\"/>\n<polygon fill=\"#000000\" stroke=\"#000000\" points=\"525.1468,-189.179 520.1905,-179.8149 518.2255,-190.226 525.1468,-189.179\"/>\n</g>\n<!-- 12 -->\n<g id=\"node16\" class=\"node\">\n<title>12</title>\n<path fill=\"#95caf1\" stroke=\"#000000\" d=\"M722.5,-187C722.5,-187 603.5,-187 603.5,-187 597.5,-187 591.5,-181 591.5,-175 591.5,-175 591.5,-116 591.5,-116 591.5,-110 597.5,-104 603.5,-104 603.5,-104 722.5,-104 722.5,-104 728.5,-104 734.5,-110 734.5,-116 734.5,-116 734.5,-175 734.5,-175 734.5,-181 728.5,-187 722.5,-187\"/>\n<text text-anchor=\"middle\" x=\"663\" y=\"-171.8\" font-family=\"Helvetica,sans-Serif\" font-size=\"14.00\" fill=\"#000000\">Pregnancies &lt;= 7.5</text>\n<text text-anchor=\"middle\" x=\"663\" y=\"-156.8\" font-family=\"Helvetica,sans-Serif\" font-size=\"14.00\" fill=\"#000000\">entropy = 0.9</text>\n<text text-anchor=\"middle\" x=\"663\" y=\"-141.8\" font-family=\"Helvetica,sans-Serif\" font-size=\"14.00\" fill=\"#000000\">samples = 60</text>\n<text text-anchor=\"middle\" x=\"663\" y=\"-126.8\" font-family=\"Helvetica,sans-Serif\" font-size=\"14.00\" fill=\"#000000\">value = [19, 41]</text>\n<text text-anchor=\"middle\" x=\"663\" y=\"-111.8\" font-family=\"Helvetica,sans-Serif\" font-size=\"14.00\" fill=\"#000000\">class = 1</text>\n</g>\n<!-- 8&#45;&gt;12 -->\n<g id=\"edge15\" class=\"edge\">\n<title>8&#45;&gt;12</title>\n<path fill=\"none\" stroke=\"#000000\" d=\"M578.4677,-222.8796C588.6017,-213.6031 599.434,-203.6874 609.8465,-194.1559\"/>\n<polygon fill=\"#000000\" stroke=\"#000000\" points=\"612.3252,-196.6319 617.3382,-187.2981 607.5987,-191.4685 612.3252,-196.6319\"/>\n</g>\n<!-- 13 -->\n<g id=\"node17\" class=\"node\">\n<title>13</title>\n<path fill=\"#c8e4f8\" stroke=\"#000000\" d=\"M643,-68C643,-68 551,-68 551,-68 545,-68 539,-62 539,-56 539,-56 539,-12 539,-12 539,-6 545,0 551,0 551,0 643,0 643,0 649,0 655,-6 655,-12 655,-12 655,-56 655,-56 655,-62 649,-68 643,-68\"/>\n<text text-anchor=\"middle\" x=\"597\" y=\"-52.8\" font-family=\"Helvetica,sans-Serif\" font-size=\"14.00\" fill=\"#000000\">entropy = 0.98</text>\n<text text-anchor=\"middle\" x=\"597\" y=\"-37.8\" font-family=\"Helvetica,sans-Serif\" font-size=\"14.00\" fill=\"#000000\">samples = 43</text>\n<text text-anchor=\"middle\" x=\"597\" y=\"-22.8\" font-family=\"Helvetica,sans-Serif\" font-size=\"14.00\" fill=\"#000000\">value = [18, 25]</text>\n<text text-anchor=\"middle\" x=\"597\" y=\"-7.8\" font-family=\"Helvetica,sans-Serif\" font-size=\"14.00\" fill=\"#000000\">class = 1</text>\n</g>\n<!-- 12&#45;&gt;13 -->\n<g id=\"edge16\" class=\"edge\">\n<title>12&#45;&gt;13</title>\n<path fill=\"none\" stroke=\"#000000\" d=\"M638.424,-103.9815C633.2014,-95.1585 627.6771,-85.8258 622.4237,-76.9506\"/>\n<polygon fill=\"#000000\" stroke=\"#000000\" points=\"625.3874,-75.0863 617.2816,-68.2637 619.3636,-78.652 625.3874,-75.0863\"/>\n</g>\n<!-- 14 -->\n<g id=\"node18\" class=\"node\">\n<title>14</title>\n<path fill=\"#45a3e7\" stroke=\"#000000\" d=\"M771,-68C771,-68 685,-68 685,-68 679,-68 673,-62 673,-56 673,-56 673,-12 673,-12 673,-6 679,0 685,0 685,0 771,0 771,0 777,0 783,-6 783,-12 783,-12 783,-56 783,-56 783,-62 777,-68 771,-68\"/>\n<text text-anchor=\"middle\" x=\"728\" y=\"-52.8\" font-family=\"Helvetica,sans-Serif\" font-size=\"14.00\" fill=\"#000000\">entropy = 0.32</text>\n<text text-anchor=\"middle\" x=\"728\" y=\"-37.8\" font-family=\"Helvetica,sans-Serif\" font-size=\"14.00\" fill=\"#000000\">samples = 17</text>\n<text text-anchor=\"middle\" x=\"728\" y=\"-22.8\" font-family=\"Helvetica,sans-Serif\" font-size=\"14.00\" fill=\"#000000\">value = [1, 16]</text>\n<text text-anchor=\"middle\" x=\"728\" y=\"-7.8\" font-family=\"Helvetica,sans-Serif\" font-size=\"14.00\" fill=\"#000000\">class = 1</text>\n</g>\n<!-- 12&#45;&gt;14 -->\n<g id=\"edge17\" class=\"edge\">\n<title>12&#45;&gt;14</title>\n<path fill=\"none\" stroke=\"#000000\" d=\"M687.2036,-103.9815C692.3471,-95.1585 697.7877,-85.8258 702.9616,-76.9506\"/>\n<polygon fill=\"#000000\" stroke=\"#000000\" points=\"706.013,-78.6656 708.0257,-68.2637 699.9656,-75.1402 706.013,-78.6656\"/>\n</g>\n</g>\n</svg>\n"
          },
          "metadata": {},
          "execution_count": 15
        }
      ]
    },
    {
      "cell_type": "code",
      "source": [
        "model.feature_importances_"
      ],
      "metadata": {
        "colab": {
          "base_uri": "https://localhost:8080/"
        },
        "id": "htY9ys1_CW8T",
        "outputId": "b0463a2a-4ba9-4edf-e5e5-37c747fba817"
      },
      "execution_count": null,
      "outputs": [
        {
          "output_type": "execute_result",
          "data": {
            "text/plain": [
              "array([0.        , 0.43420288, 0.04177339, 0.        , 0.07399799,\n",
              "       0.27780451, 0.07765172, 0.09456951])"
            ]
          },
          "metadata": {},
          "execution_count": 61
        }
      ]
    },
    {
      "cell_type": "code",
      "source": [
        "model.feature_names_in_"
      ],
      "metadata": {
        "colab": {
          "base_uri": "https://localhost:8080/"
        },
        "id": "Ie9olM86CnIG",
        "outputId": "cbf8ad41-fae1-4955-dbcc-24dd3c36db71"
      },
      "execution_count": null,
      "outputs": [
        {
          "output_type": "execute_result",
          "data": {
            "text/plain": [
              "array(['Pregnancies', 'Glucose', 'BloodPressure', 'SkinThickness',\n",
              "       'Insulin', 'BMI', 'DiabetesPedigreeFunction', 'Age'], dtype=object)"
            ]
          },
          "metadata": {},
          "execution_count": 30
        }
      ]
    },
    {
      "cell_type": "code",
      "source": [],
      "metadata": {
        "id": "gPKEi6baCppP"
      },
      "execution_count": null,
      "outputs": []
    }
  ]
}