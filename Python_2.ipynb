{
 "cells": [
  {
   "cell_type": "markdown",
   "metadata": {},
   "source": [
    "## Функции, модули и библиотеки"
   ]
  },
  {
   "cell_type": "code",
   "execution_count": 1,
   "metadata": {},
   "outputs": [
    {
     "name": "stdout",
     "output_type": "stream",
     "text": [
      "Привет всем!\n"
     ]
    }
   ],
   "source": [
    "def hello(): #Объявление функции\n",
    "    print('Привет всем!') #Тело функции\n",
    "\n",
    "hello() #Вызов функции"
   ]
  },
  {
   "cell_type": "code",
   "execution_count": 2,
   "metadata": {},
   "outputs": [
    {
     "name": "stdout",
     "output_type": "stream",
     "text": [
      "17\n"
     ]
    }
   ],
   "source": [
    "def Discriminant(a, b, c): #Объявление функции и параметров\n",
    "    if a != 0:\n",
    "        discr = b ** 2 - 4 * a * c\n",
    "        return discr\n",
    "    else:\n",
    "        print('a должно быть отлично от нуля!')\n",
    "\n",
    "print(Discriminant(1, 3, -2)) #Вызов функции и передача аргументов"
   ]
  },
  {
   "cell_type": "code",
   "execution_count": 70,
   "metadata": {},
   "outputs": [
    {
     "name": "stdout",
     "output_type": "stream",
     "text": [
      "17\n"
     ]
    }
   ],
   "source": [
    "def Discriminant(b, c, a = 1): #Объявление функции. Параметр a = 1 по умолчанию\n",
    "    if a!= 0:\n",
    "        discr = b ** 2 - 4 * a * c\n",
    "        return discr\n",
    "    else:\n",
    "        print('a должно быть отлично от нуля!')\n",
    "\n",
    "print(Discriminant(3, -2)) #Вызов функции и передача двух аргументов (b и c)"
   ]
  },
  {
   "cell_type": "markdown",
   "metadata": {},
   "source": [
    "### Импорт библиотеки math"
   ]
  },
  {
   "cell_type": "code",
   "execution_count": null,
   "metadata": {},
   "outputs": [
    {
     "ename": "",
     "evalue": "",
     "output_type": "error",
     "traceback": [
      "\u001b[1;31mThe kernel failed to start due to the missing module 'packaging'. Consider installing this module.\n",
      "\u001b[1;31mНажмите <a href=\"https://aka.ms/kernelFailuresMissingModule\">здесь</a> для получения дополнительных сведений."
     ]
    }
   ],
   "source": [
    "import math\n",
    "print(math.sqrt(81))"
   ]
  },
  {
   "cell_type": "markdown",
   "metadata": {},
   "source": [
    "### Импорт библиотеки math c указанием локального имени m"
   ]
  },
  {
   "cell_type": "code",
   "execution_count": null,
   "metadata": {},
   "outputs": [
    {
     "name": "stdout",
     "output_type": "stream",
     "text": [
      "9.0\n"
     ]
    }
   ],
   "source": [
    "import math as m\n",
    "print(m.sqrt(49))"
   ]
  },
  {
   "cell_type": "markdown",
   "metadata": {},
   "source": [
    "### Импорт отдельной функции из библиотеки math"
   ]
  },
  {
   "cell_type": "code",
   "execution_count": 7,
   "metadata": {},
   "outputs": [
    {
     "name": "stdout",
     "output_type": "stream",
     "text": [
      "9.0\n"
     ]
    }
   ],
   "source": [
    "from math import sqrt\n",
    "print(sqrt(81))"
   ]
  },
  {
   "cell_type": "markdown",
   "metadata": {},
   "source": [
    "### Импорт отдельной функции из библиотеки math c указанием локального имени"
   ]
  },
  {
   "cell_type": "code",
   "execution_count": 9,
   "metadata": {},
   "outputs": [
    {
     "name": "stdout",
     "output_type": "stream",
     "text": [
      "9.0\n"
     ]
    }
   ],
   "source": [
    "from math import sqrt as koren\n",
    "print(koren(81))"
   ]
  },
  {
   "cell_type": "markdown",
   "metadata": {},
   "source": [
    "2. Инструменты. Опрос 4"
   ]
  },
  {
   "cell_type": "markdown",
   "metadata": {},
   "source": [
    "При помощи Python реализуйте функцию с именем is_leap_year() для определения того, является ли год високосным. На вход эта функция должна принимать 1 параметр year (целое неотрицательное число). Функция должна возвращать значение True, если год високосный, иначе — значение False.\n",
    "\n",
    "Напомним, что в соответствии с григорианским календарем, год является високосным, если его номер кратен 4, но не кратен 100, а также если он кратен 400."
   ]
  },
  {
   "cell_type": "code",
   "execution_count": 13,
   "metadata": {},
   "outputs": [
    {
     "data": {
      "text/plain": [
       "False"
      ]
     },
     "execution_count": 13,
     "metadata": {},
     "output_type": "execute_result"
    }
   ],
   "source": [
    "year = 1700\n",
    "def is_leap_year(year):\n",
    "    result = (year % 4 == 0 and year % 100 != 0) or (year % 400 == 0)\n",
    "    return result\n",
    "is_leap_year(year)\n"
   ]
  },
  {
   "cell_type": "markdown",
   "metadata": {},
   "source": [
    "При помощи Python реализуйте функцию с именем get_sum_odd(). На вход эта функция должна принимать 2 параметра: , . Возвращать функция должна сумму нечетных натуральных чисел на отрезке ."
   ]
  },
  {
   "cell_type": "code",
   "execution_count": 37,
   "metadata": {},
   "outputs": [
    {
     "name": "stdout",
     "output_type": "stream",
     "text": [
      "8\n"
     ]
    }
   ],
   "source": [
    "def get_sum_odd(a, b):\n",
    "    result = 0\n",
    "    if a % 2 == 0:\n",
    "        for i in range(a+1, b+1, 2):\n",
    "            result += i\n",
    "    else:\n",
    "        for i in range(a, b+1, 2):\n",
    "            result += i\n",
    "    return result \n",
    "print(get_sum_odd(3, 6))"
   ]
  },
  {
   "cell_type": "markdown",
   "metadata": {},
   "source": [
    "2. Инструменты. Практическое задание 1"
   ]
  },
  {
   "cell_type": "code",
   "execution_count": 72,
   "metadata": {},
   "outputs": [
    {
     "name": "stdout",
     "output_type": "stream",
     "text": [
      "удовлетворительно\n"
     ]
    }
   ],
   "source": [
    "def grade(score):\n",
    "    if 0 <= score < 60:\n",
    "        print('неудовлетворительно') \n",
    "    if 60 <= score <= 74:\n",
    "        print('удовлетворительно') \n",
    "    if 74 < score <= 90:\n",
    "        print('хорошо') \n",
    "    if 90 < score <= 100:\n",
    "        print('отлично')\n",
    "grade(74)\n"
   ]
  },
  {
   "cell_type": "code",
   "execution_count": 88,
   "metadata": {},
   "outputs": [
    {
     "name": "stdout",
     "output_type": "stream",
     "text": [
      "1000.0\n"
     ]
    }
   ],
   "source": [
    "def solve(a, b):\n",
    "    if b == 0 and a == 0:\n",
    "        print('Any')\n",
    "    elif (b == 0 and a != 0) or (b != 0 and a == 0):\n",
    "        print('Error')\n",
    "    else:\n",
    "        x = b / a\n",
    "        print(x)\n",
    "solve(1,1000)"
   ]
  }
 ],
 "metadata": {
  "kernelspec": {
   "display_name": "Python 3.10.7 64-bit",
   "language": "python",
   "name": "python3"
  },
  "language_info": {
   "codemirror_mode": {
    "name": "ipython",
    "version": 3
   },
   "file_extension": ".py",
   "mimetype": "text/x-python",
   "name": "python",
   "nbconvert_exporter": "python",
   "pygments_lexer": "ipython3",
   "version": "3.10.7"
  },
  "vscode": {
   "interpreter": {
    "hash": "7fd322b224cdf3463f26801feb4f7915bcf69115f1f6e20cd282fe1c3eb62173"
   }
  }
 },
 "nbformat": 4,
 "nbformat_minor": 2
}
